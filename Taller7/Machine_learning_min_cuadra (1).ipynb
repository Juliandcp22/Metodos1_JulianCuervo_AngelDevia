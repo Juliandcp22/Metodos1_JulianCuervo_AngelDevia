{
  "nbformat": 4,
  "nbformat_minor": 0,
  "metadata": {
    "colab": {
      "provenance": [],
      "collapsed_sections": []
    },
    "kernelspec": {
      "name": "python3",
      "display_name": "Python 3"
    },
    "language_info": {
      "name": "python"
    }
  },
  "cells": [
    {
      "cell_type": "code",
      "source": [
        "!pip install wget"
      ],
      "metadata": {
        "colab": {
          "base_uri": "https://localhost:8080/"
        },
        "id": "x07xMpXO0I-Y",
        "outputId": "eace0df5-2168-4cb7-c100-50240aea7f6b"
      },
      "execution_count": 33,
      "outputs": [
        {
          "output_type": "stream",
          "name": "stdout",
          "text": [
            "Looking in indexes: https://pypi.org/simple, https://us-python.pkg.dev/colab-wheels/public/simple/\n",
            "Requirement already satisfied: wget in /usr/local/lib/python3.7/dist-packages (3.2)\n"
          ]
        }
      ]
    },
    {
      "cell_type": "code",
      "execution_count": 34,
      "metadata": {
        "id": "xNFNljxtpG0h"
      },
      "outputs": [],
      "source": [
        "import numpy as np \n",
        "import os.path as path\n",
        "import wget\n",
        "import matplotlib.pyplot as plt\n",
        "import pandas as pd\n",
        "import sympy as sp"
      ]
    },
    {
      "cell_type": "code",
      "source": [
        "! wget https://raw.githubusercontent.com/asegura4488/Database/main/MetodosComputacionalesReforma/Sigmoid.csv\n",
        "Zelda = pd.read_csv('Sigmoid.csv')\n",
        "Zelda\n"
      ],
      "metadata": {
        "colab": {
          "base_uri": "https://localhost:8080/",
          "height": 1000
        },
        "id": "yyWHPe7ZpPjL",
        "outputId": "b93d57d9-63f9-4d2b-8ba1-1f198b9b734b"
      },
      "execution_count": 35,
      "outputs": [
        {
          "output_type": "stream",
          "name": "stdout",
          "text": [
            "--2022-10-28 03:12:10--  https://raw.githubusercontent.com/asegura4488/Database/main/MetodosComputacionalesReforma/Sigmoid.csv\n",
            "Resolving raw.githubusercontent.com (raw.githubusercontent.com)... 185.199.108.133, 185.199.109.133, 185.199.110.133, ...\n",
            "Connecting to raw.githubusercontent.com (raw.githubusercontent.com)|185.199.108.133|:443... connected.\n",
            "HTTP request sent, awaiting response... 200 OK\n",
            "Length: 1952 (1.9K) [text/plain]\n",
            "Saving to: ‘Sigmoid.csv.1’\n",
            "\n",
            "\rSigmoid.csv.1         0%[                    ]       0  --.-KB/s               \rSigmoid.csv.1       100%[===================>]   1.91K  --.-KB/s    in 0s      \n",
            "\n",
            "2022-10-28 03:12:10 (35.6 MB/s) - ‘Sigmoid.csv.1’ saved [1952/1952]\n",
            "\n"
          ]
        },
        {
          "output_type": "execute_result",
          "data": {
            "text/plain": [
              "           x         y\n",
              "0  -3.186022 -0.126490\n",
              "1   0.392737  3.396318\n",
              "2  -4.817696 -0.032391\n",
              "3  -1.577942  0.069783\n",
              "4  -8.935573  0.017409\n",
              "5  -0.592758  0.727137\n",
              "6   4.934335  4.475377\n",
              "7  -7.722024  0.024865\n",
              "8   5.616402  4.506522\n",
              "9  -5.407019  0.011716\n",
              "10  1.601067  4.511663\n",
              "11 -5.550964 -0.036123\n",
              "12 -3.583489 -0.069709\n",
              "13 -5.223766  0.003032\n",
              "14  0.253055  2.943534\n",
              "15 -8.073227 -0.009959\n",
              "16  6.562836  4.422080\n",
              "17  4.957488  4.471753\n",
              "18 -6.739070  0.028901\n",
              "19  6.789948  4.578817\n",
              "20 -4.683477 -0.010250\n",
              "21  7.882835  4.514181\n",
              "22 -4.672545 -0.084745\n",
              "23 -6.398048 -0.018367\n",
              "24 -3.347306 -0.098493\n",
              "25 -9.373003 -0.049116\n",
              "26 -4.784002  0.013133\n",
              "27 -3.636327  0.036446\n",
              "28 -5.255305 -0.030479\n",
              "29 -8.450866  0.055993\n",
              "30 -4.638201  0.019700\n",
              "31 -6.095493 -0.049814\n",
              "32  9.448117  4.528865\n",
              "33 -1.816208  0.015519\n",
              "34  8.931352  4.547974\n",
              "35 -6.427343  0.026792\n",
              "36  9.639363  4.439721\n",
              "37  1.157599  4.342836\n",
              "38 -2.373627 -0.015373\n",
              "39  9.033973  4.546410\n",
              "40 -6.856653 -0.006107\n",
              "41  3.017532  4.495061\n",
              "42 -8.081022  0.001155\n",
              "43 -5.929525 -0.043981\n",
              "44 -2.988910  0.043201\n",
              "45  6.731394  4.542287\n",
              "46 -4.803569 -0.108062\n",
              "47  6.893557  4.541207\n",
              "48 -0.089946  1.952478\n",
              "49 -3.067276 -0.040312"
            ],
            "text/html": [
              "\n",
              "  <div id=\"df-4ea209c9-ee80-4785-8d24-3b0ad3695281\">\n",
              "    <div class=\"colab-df-container\">\n",
              "      <div>\n",
              "<style scoped>\n",
              "    .dataframe tbody tr th:only-of-type {\n",
              "        vertical-align: middle;\n",
              "    }\n",
              "\n",
              "    .dataframe tbody tr th {\n",
              "        vertical-align: top;\n",
              "    }\n",
              "\n",
              "    .dataframe thead th {\n",
              "        text-align: right;\n",
              "    }\n",
              "</style>\n",
              "<table border=\"1\" class=\"dataframe\">\n",
              "  <thead>\n",
              "    <tr style=\"text-align: right;\">\n",
              "      <th></th>\n",
              "      <th>x</th>\n",
              "      <th>y</th>\n",
              "    </tr>\n",
              "  </thead>\n",
              "  <tbody>\n",
              "    <tr>\n",
              "      <th>0</th>\n",
              "      <td>-3.186022</td>\n",
              "      <td>-0.126490</td>\n",
              "    </tr>\n",
              "    <tr>\n",
              "      <th>1</th>\n",
              "      <td>0.392737</td>\n",
              "      <td>3.396318</td>\n",
              "    </tr>\n",
              "    <tr>\n",
              "      <th>2</th>\n",
              "      <td>-4.817696</td>\n",
              "      <td>-0.032391</td>\n",
              "    </tr>\n",
              "    <tr>\n",
              "      <th>3</th>\n",
              "      <td>-1.577942</td>\n",
              "      <td>0.069783</td>\n",
              "    </tr>\n",
              "    <tr>\n",
              "      <th>4</th>\n",
              "      <td>-8.935573</td>\n",
              "      <td>0.017409</td>\n",
              "    </tr>\n",
              "    <tr>\n",
              "      <th>5</th>\n",
              "      <td>-0.592758</td>\n",
              "      <td>0.727137</td>\n",
              "    </tr>\n",
              "    <tr>\n",
              "      <th>6</th>\n",
              "      <td>4.934335</td>\n",
              "      <td>4.475377</td>\n",
              "    </tr>\n",
              "    <tr>\n",
              "      <th>7</th>\n",
              "      <td>-7.722024</td>\n",
              "      <td>0.024865</td>\n",
              "    </tr>\n",
              "    <tr>\n",
              "      <th>8</th>\n",
              "      <td>5.616402</td>\n",
              "      <td>4.506522</td>\n",
              "    </tr>\n",
              "    <tr>\n",
              "      <th>9</th>\n",
              "      <td>-5.407019</td>\n",
              "      <td>0.011716</td>\n",
              "    </tr>\n",
              "    <tr>\n",
              "      <th>10</th>\n",
              "      <td>1.601067</td>\n",
              "      <td>4.511663</td>\n",
              "    </tr>\n",
              "    <tr>\n",
              "      <th>11</th>\n",
              "      <td>-5.550964</td>\n",
              "      <td>-0.036123</td>\n",
              "    </tr>\n",
              "    <tr>\n",
              "      <th>12</th>\n",
              "      <td>-3.583489</td>\n",
              "      <td>-0.069709</td>\n",
              "    </tr>\n",
              "    <tr>\n",
              "      <th>13</th>\n",
              "      <td>-5.223766</td>\n",
              "      <td>0.003032</td>\n",
              "    </tr>\n",
              "    <tr>\n",
              "      <th>14</th>\n",
              "      <td>0.253055</td>\n",
              "      <td>2.943534</td>\n",
              "    </tr>\n",
              "    <tr>\n",
              "      <th>15</th>\n",
              "      <td>-8.073227</td>\n",
              "      <td>-0.009959</td>\n",
              "    </tr>\n",
              "    <tr>\n",
              "      <th>16</th>\n",
              "      <td>6.562836</td>\n",
              "      <td>4.422080</td>\n",
              "    </tr>\n",
              "    <tr>\n",
              "      <th>17</th>\n",
              "      <td>4.957488</td>\n",
              "      <td>4.471753</td>\n",
              "    </tr>\n",
              "    <tr>\n",
              "      <th>18</th>\n",
              "      <td>-6.739070</td>\n",
              "      <td>0.028901</td>\n",
              "    </tr>\n",
              "    <tr>\n",
              "      <th>19</th>\n",
              "      <td>6.789948</td>\n",
              "      <td>4.578817</td>\n",
              "    </tr>\n",
              "    <tr>\n",
              "      <th>20</th>\n",
              "      <td>-4.683477</td>\n",
              "      <td>-0.010250</td>\n",
              "    </tr>\n",
              "    <tr>\n",
              "      <th>21</th>\n",
              "      <td>7.882835</td>\n",
              "      <td>4.514181</td>\n",
              "    </tr>\n",
              "    <tr>\n",
              "      <th>22</th>\n",
              "      <td>-4.672545</td>\n",
              "      <td>-0.084745</td>\n",
              "    </tr>\n",
              "    <tr>\n",
              "      <th>23</th>\n",
              "      <td>-6.398048</td>\n",
              "      <td>-0.018367</td>\n",
              "    </tr>\n",
              "    <tr>\n",
              "      <th>24</th>\n",
              "      <td>-3.347306</td>\n",
              "      <td>-0.098493</td>\n",
              "    </tr>\n",
              "    <tr>\n",
              "      <th>25</th>\n",
              "      <td>-9.373003</td>\n",
              "      <td>-0.049116</td>\n",
              "    </tr>\n",
              "    <tr>\n",
              "      <th>26</th>\n",
              "      <td>-4.784002</td>\n",
              "      <td>0.013133</td>\n",
              "    </tr>\n",
              "    <tr>\n",
              "      <th>27</th>\n",
              "      <td>-3.636327</td>\n",
              "      <td>0.036446</td>\n",
              "    </tr>\n",
              "    <tr>\n",
              "      <th>28</th>\n",
              "      <td>-5.255305</td>\n",
              "      <td>-0.030479</td>\n",
              "    </tr>\n",
              "    <tr>\n",
              "      <th>29</th>\n",
              "      <td>-8.450866</td>\n",
              "      <td>0.055993</td>\n",
              "    </tr>\n",
              "    <tr>\n",
              "      <th>30</th>\n",
              "      <td>-4.638201</td>\n",
              "      <td>0.019700</td>\n",
              "    </tr>\n",
              "    <tr>\n",
              "      <th>31</th>\n",
              "      <td>-6.095493</td>\n",
              "      <td>-0.049814</td>\n",
              "    </tr>\n",
              "    <tr>\n",
              "      <th>32</th>\n",
              "      <td>9.448117</td>\n",
              "      <td>4.528865</td>\n",
              "    </tr>\n",
              "    <tr>\n",
              "      <th>33</th>\n",
              "      <td>-1.816208</td>\n",
              "      <td>0.015519</td>\n",
              "    </tr>\n",
              "    <tr>\n",
              "      <th>34</th>\n",
              "      <td>8.931352</td>\n",
              "      <td>4.547974</td>\n",
              "    </tr>\n",
              "    <tr>\n",
              "      <th>35</th>\n",
              "      <td>-6.427343</td>\n",
              "      <td>0.026792</td>\n",
              "    </tr>\n",
              "    <tr>\n",
              "      <th>36</th>\n",
              "      <td>9.639363</td>\n",
              "      <td>4.439721</td>\n",
              "    </tr>\n",
              "    <tr>\n",
              "      <th>37</th>\n",
              "      <td>1.157599</td>\n",
              "      <td>4.342836</td>\n",
              "    </tr>\n",
              "    <tr>\n",
              "      <th>38</th>\n",
              "      <td>-2.373627</td>\n",
              "      <td>-0.015373</td>\n",
              "    </tr>\n",
              "    <tr>\n",
              "      <th>39</th>\n",
              "      <td>9.033973</td>\n",
              "      <td>4.546410</td>\n",
              "    </tr>\n",
              "    <tr>\n",
              "      <th>40</th>\n",
              "      <td>-6.856653</td>\n",
              "      <td>-0.006107</td>\n",
              "    </tr>\n",
              "    <tr>\n",
              "      <th>41</th>\n",
              "      <td>3.017532</td>\n",
              "      <td>4.495061</td>\n",
              "    </tr>\n",
              "    <tr>\n",
              "      <th>42</th>\n",
              "      <td>-8.081022</td>\n",
              "      <td>0.001155</td>\n",
              "    </tr>\n",
              "    <tr>\n",
              "      <th>43</th>\n",
              "      <td>-5.929525</td>\n",
              "      <td>-0.043981</td>\n",
              "    </tr>\n",
              "    <tr>\n",
              "      <th>44</th>\n",
              "      <td>-2.988910</td>\n",
              "      <td>0.043201</td>\n",
              "    </tr>\n",
              "    <tr>\n",
              "      <th>45</th>\n",
              "      <td>6.731394</td>\n",
              "      <td>4.542287</td>\n",
              "    </tr>\n",
              "    <tr>\n",
              "      <th>46</th>\n",
              "      <td>-4.803569</td>\n",
              "      <td>-0.108062</td>\n",
              "    </tr>\n",
              "    <tr>\n",
              "      <th>47</th>\n",
              "      <td>6.893557</td>\n",
              "      <td>4.541207</td>\n",
              "    </tr>\n",
              "    <tr>\n",
              "      <th>48</th>\n",
              "      <td>-0.089946</td>\n",
              "      <td>1.952478</td>\n",
              "    </tr>\n",
              "    <tr>\n",
              "      <th>49</th>\n",
              "      <td>-3.067276</td>\n",
              "      <td>-0.040312</td>\n",
              "    </tr>\n",
              "  </tbody>\n",
              "</table>\n",
              "</div>\n",
              "      <button class=\"colab-df-convert\" onclick=\"convertToInteractive('df-4ea209c9-ee80-4785-8d24-3b0ad3695281')\"\n",
              "              title=\"Convert this dataframe to an interactive table.\"\n",
              "              style=\"display:none;\">\n",
              "        \n",
              "  <svg xmlns=\"http://www.w3.org/2000/svg\" height=\"24px\"viewBox=\"0 0 24 24\"\n",
              "       width=\"24px\">\n",
              "    <path d=\"M0 0h24v24H0V0z\" fill=\"none\"/>\n",
              "    <path d=\"M18.56 5.44l.94 2.06.94-2.06 2.06-.94-2.06-.94-.94-2.06-.94 2.06-2.06.94zm-11 1L8.5 8.5l.94-2.06 2.06-.94-2.06-.94L8.5 2.5l-.94 2.06-2.06.94zm10 10l.94 2.06.94-2.06 2.06-.94-2.06-.94-.94-2.06-.94 2.06-2.06.94z\"/><path d=\"M17.41 7.96l-1.37-1.37c-.4-.4-.92-.59-1.43-.59-.52 0-1.04.2-1.43.59L10.3 9.45l-7.72 7.72c-.78.78-.78 2.05 0 2.83L4 21.41c.39.39.9.59 1.41.59.51 0 1.02-.2 1.41-.59l7.78-7.78 2.81-2.81c.8-.78.8-2.07 0-2.86zM5.41 20L4 18.59l7.72-7.72 1.47 1.35L5.41 20z\"/>\n",
              "  </svg>\n",
              "      </button>\n",
              "      \n",
              "  <style>\n",
              "    .colab-df-container {\n",
              "      display:flex;\n",
              "      flex-wrap:wrap;\n",
              "      gap: 12px;\n",
              "    }\n",
              "\n",
              "    .colab-df-convert {\n",
              "      background-color: #E8F0FE;\n",
              "      border: none;\n",
              "      border-radius: 50%;\n",
              "      cursor: pointer;\n",
              "      display: none;\n",
              "      fill: #1967D2;\n",
              "      height: 32px;\n",
              "      padding: 0 0 0 0;\n",
              "      width: 32px;\n",
              "    }\n",
              "\n",
              "    .colab-df-convert:hover {\n",
              "      background-color: #E2EBFA;\n",
              "      box-shadow: 0px 1px 2px rgba(60, 64, 67, 0.3), 0px 1px 3px 1px rgba(60, 64, 67, 0.15);\n",
              "      fill: #174EA6;\n",
              "    }\n",
              "\n",
              "    [theme=dark] .colab-df-convert {\n",
              "      background-color: #3B4455;\n",
              "      fill: #D2E3FC;\n",
              "    }\n",
              "\n",
              "    [theme=dark] .colab-df-convert:hover {\n",
              "      background-color: #434B5C;\n",
              "      box-shadow: 0px 1px 3px 1px rgba(0, 0, 0, 0.15);\n",
              "      filter: drop-shadow(0px 1px 2px rgba(0, 0, 0, 0.3));\n",
              "      fill: #FFFFFF;\n",
              "    }\n",
              "  </style>\n",
              "\n",
              "      <script>\n",
              "        const buttonEl =\n",
              "          document.querySelector('#df-4ea209c9-ee80-4785-8d24-3b0ad3695281 button.colab-df-convert');\n",
              "        buttonEl.style.display =\n",
              "          google.colab.kernel.accessAllowed ? 'block' : 'none';\n",
              "\n",
              "        async function convertToInteractive(key) {\n",
              "          const element = document.querySelector('#df-4ea209c9-ee80-4785-8d24-3b0ad3695281');\n",
              "          const dataTable =\n",
              "            await google.colab.kernel.invokeFunction('convertToInteractive',\n",
              "                                                     [key], {});\n",
              "          if (!dataTable) return;\n",
              "\n",
              "          const docLinkHtml = 'Like what you see? Visit the ' +\n",
              "            '<a target=\"_blank\" href=https://colab.research.google.com/notebooks/data_table.ipynb>data table notebook</a>'\n",
              "            + ' to learn more about interactive tables.';\n",
              "          element.innerHTML = '';\n",
              "          dataTable['output_type'] = 'display_data';\n",
              "          await google.colab.output.renderOutput(dataTable, element);\n",
              "          const docLink = document.createElement('div');\n",
              "          docLink.innerHTML = docLinkHtml;\n",
              "          element.appendChild(docLink);\n",
              "        }\n",
              "      </script>\n",
              "    </div>\n",
              "  </div>\n",
              "  "
            ]
          },
          "metadata": {},
          "execution_count": 35
        }
      ]
    },
    {
      "cell_type": "code",
      "source": [
        "x = np.float64(Zelda['x'])\n",
        "y = np.float64(Zelda['y'])\n",
        "theta = np.ones(3)\n"
      ],
      "metadata": {
        "id": "XewrZd2t5AZV"
      },
      "execution_count": 4,
      "outputs": []
    },
    {
      "cell_type": "code",
      "source": [
        "a1 = [1,1,1]\n"
      ],
      "metadata": {
        "id": "aCMyyfw2vq_Q"
      },
      "execution_count": 36,
      "outputs": []
    },
    {
      "cell_type": "code",
      "source": [
        "\n",
        "def M(x,vector):\n",
        "    \n",
        "    for j in range(3):\n",
        "     res = vector[j]/(vector[j+1]+np.exp(-vector[j+2]*x))\n",
        "     \n",
        "     return res\n",
        "\n",
        "M(x,theta)"
      ],
      "metadata": {
        "id": "cnKGdBwk5Fev",
        "colab": {
          "base_uri": "https://localhost:8080/"
        },
        "outputId": "f82af208-d676-45b3-c033-7b02f19b1e98"
      },
      "execution_count": 12,
      "outputs": [
        {
          "output_type": "execute_result",
          "data": {
            "text/plain": [
              "array([3.96951234e-02, 5.96941456e-01, 8.02054162e-03, 1.71087105e-01,\n",
              "       1.31605156e-04, 3.56002353e-01, 9.92856155e-01, 4.42767145e-04,\n",
              "       9.96375478e-01, 4.46496304e-03, 8.32167405e-01, 3.86868730e-03,\n",
              "       2.70278030e-02, 5.35814072e-03, 5.62928293e-01, 3.11678275e-04,\n",
              "       9.98590115e-01, 9.93018521e-01, 1.18234835e-03, 9.98876237e-01,\n",
              "       9.16209040e-03, 9.99622980e-01, 9.26186790e-03, 1.66203709e-03,\n",
              "       3.39834820e-02, 8.49805959e-05, 8.29311818e-03, 2.56724939e-02,\n",
              "       5.19264976e-03, 2.13669532e-04, 9.58238130e-03, 2.24793385e-03,\n",
              "       9.99921168e-01, 1.39889484e-01, 9.99867838e-01, 1.61413188e-03,\n",
              "       9.99934890e-01, 7.60896174e-01, 8.52059783e-02, 9.99880727e-01,\n",
              "       1.05132418e-03, 9.53359930e-01, 3.09259005e-04, 2.65268882e-03,\n",
              "       4.79293937e-02, 9.98808553e-01, 8.13372790e-03, 9.98986728e-01,\n",
              "       4.77528607e-01, 4.44774446e-02])"
            ]
          },
          "metadata": {},
          "execution_count": 12
        }
      ]
    },
    {
      "cell_type": "code",
      "source": [
        "def M1(x,vector):\n",
        "  v1 = vector[0]\n",
        "  v2 = vector[1]\n",
        "  v3 = vector[2]\n",
        "  return (v1/(v2+np.exp(-v3*x)))\n",
        "\n",
        "M1(x,theta)"
      ],
      "metadata": {
        "id": "ux7iD-EVwCeq",
        "colab": {
          "base_uri": "https://localhost:8080/"
        },
        "outputId": "71408be9-fef0-4990-d61b-7e8e232a91f4"
      },
      "execution_count": 37,
      "outputs": [
        {
          "output_type": "execute_result",
          "data": {
            "text/plain": [
              "array([3.96951234e-02, 5.96941456e-01, 8.02054162e-03, 1.71087105e-01,\n",
              "       1.31605156e-04, 3.56002353e-01, 9.92856155e-01, 4.42767145e-04,\n",
              "       9.96375478e-01, 4.46496304e-03, 8.32167405e-01, 3.86868730e-03,\n",
              "       2.70278030e-02, 5.35814072e-03, 5.62928293e-01, 3.11678275e-04,\n",
              "       9.98590115e-01, 9.93018521e-01, 1.18234835e-03, 9.98876237e-01,\n",
              "       9.16209040e-03, 9.99622980e-01, 9.26186790e-03, 1.66203709e-03,\n",
              "       3.39834820e-02, 8.49805959e-05, 8.29311818e-03, 2.56724939e-02,\n",
              "       5.19264976e-03, 2.13669532e-04, 9.58238130e-03, 2.24793385e-03,\n",
              "       9.99921168e-01, 1.39889484e-01, 9.99867838e-01, 1.61413188e-03,\n",
              "       9.99934890e-01, 7.60896174e-01, 8.52059783e-02, 9.99880727e-01,\n",
              "       1.05132418e-03, 9.53359930e-01, 3.09259005e-04, 2.65268882e-03,\n",
              "       4.79293937e-02, 9.98808553e-01, 8.13372790e-03, 9.98986728e-01,\n",
              "       4.77528607e-01, 4.44774446e-02])"
            ]
          },
          "metadata": {},
          "execution_count": 37
        }
      ]
    },
    {
      "cell_type": "code",
      "source": [
        "\n",
        "N = 50\n",
        "\n",
        "def minimin(x,vector):\n",
        "  sum=0\n",
        "  for i in range(N):\n",
        "    sum += ((y[i]-M1(x,vector))/1)**2\n",
        "  return sum\n",
        "\n",
        "minimin(x,theta)\n"
      ],
      "metadata": {
        "id": "zzLgMArc6Ozm",
        "colab": {
          "base_uri": "https://localhost:8080/"
        },
        "outputId": "e048e049-5148-4fa5-d485-b4167c441030"
      },
      "execution_count": 38,
      "outputs": [
        {
          "output_type": "execute_result",
          "data": {
            "text/plain": [
              "array([322.14423065, 255.15632744, 326.88459843, 303.55159657,\n",
              "       328.08084988, 280.30964938, 226.43100564, 328.03354844,\n",
              "       226.24595041, 327.42298387, 236.19976042, 327.51339568,\n",
              "       324.02796323, 327.28762008, 258.35528964, 328.0534748 ,\n",
              "       226.13013396, 226.42244078, 327.9211595 , 226.11520671,\n",
              "       326.7120133 , 226.07628702, 326.69693462, 327.84829383,\n",
              "       322.99161131, 328.08793837, 326.84337708, 324.23045885,\n",
              "       327.31269471, 328.06837389, 326.64850441, 327.75932617,\n",
              "       226.06076125, 307.80992744, 226.06353733, 327.8555697 ,\n",
              "       226.06004703, 241.35915771, 315.50878689, 226.06286641,\n",
              "       327.94106634, 228.59276818, 328.05384256, 327.6978847 ,\n",
              "       320.9283338 , 226.11873711, 326.86748054, 226.10944448,\n",
              "       266.89708201, 321.43723345])"
            ]
          },
          "metadata": {},
          "execution_count": 38
        }
      ]
    },
    {
      "cell_type": "code",
      "source": [
        "def derM1(x,vector):\n",
        "\n",
        "  a=vector[0]\n",
        "  b = vector[1]\n",
        "  c = vector[2]\n",
        "\n",
        "  return -(a*c*np.exp(-c*x)/(b-np.exp(-c*x))**2)\n",
        "\n",
        "\n",
        "def derpar(x,vector):\n",
        "   sum=0\n",
        "   for u in range(N):\n",
        "     sum += (y[u]-M1(x,vector))\n",
        "\n",
        "   return -2*sum*derM1(x,vector)\n",
        "derpar(x,theta)"
      ],
      "metadata": {
        "id": "lAfhhjtM-BBS",
        "colab": {
          "base_uri": "https://localhost:8080/"
        },
        "outputId": "23d21e61-9a66-4615-a80d-339c24c5fb9a"
      },
      "execution_count": 40,
      "outputs": [
        {
          "output_type": "execute_result",
          "data": {
            "text/plain": [
              "array([6.66002677e+00, 5.91095924e+02, 1.24286877e+00, 4.42212050e+01,\n",
              "       2.00159710e-02, 3.21872115e+02, 3.85133353e-01, 6.73900734e-02,\n",
              "       1.92034627e-01, 6.86054026e-01, 2.17808454e+01, 5.93595178e-01,\n",
              "       4.38894599e+00, 8.25041506e-01, 1.48730103e+03, 4.74234978e-02,\n",
              "       7.38875129e-02, 3.76077906e-01, 1.80268583e-01, 5.88098289e-02,\n",
              "       1.42365878e+00, 1.96581487e-02, 1.43950804e+00, 2.53691095e-01,\n",
              "       5.61749392e+00, 1.29233792e-02, 1.28594730e+00, 4.15461364e+00,\n",
              "       7.99244854e-01, 3.25034813e-02, 1.49047193e+00, 3.43595384e-01,\n",
              "       4.10432370e-03, 3.20229001e+01, 6.88272364e-03, 2.46351136e-01,\n",
              "       3.38969797e-03, 5.07540264e+01, 1.62551786e+01, 6.21113598e-03,\n",
              "       1.60242439e-01, 3.06701396e+00, 4.70551263e-02, 4.05849187e-01,\n",
              "       8.21973061e+00, 6.23727316e-02, 1.26075011e+00, 5.29986619e-02,\n",
              "       1.28822042e+04, 7.55747880e+00])"
            ]
          },
          "metadata": {},
          "execution_count": 40
        }
      ]
    },
    {
      "cell_type": "code",
      "source": [
        "def tet_new(gama, x, y, vector, error):\n",
        " \n",
        "   N_max = 50\n",
        "   sum = 0\n",
        "   for j in range(3):\n",
        "      for u in range(N):\n",
        "        sum += (y[u]-M(x[u],vector))\n",
        "        if np.abs(sum) < error:\n",
        "          break \n",
        "\n",
        "      mult_gama = (-2*sum*derM1(x[u],vector))\n",
        "      \n",
        "\n",
        "   return vector-gama*(mult_gama)\n",
        "   \n"
      ],
      "metadata": {
        "id": "sUcvFS9s_nYZ"
      },
      "execution_count": 41,
      "outputs": []
    },
    {
      "cell_type": "code",
      "source": [
        "theta2=tet_new(1e-4, x, y, theta, 0.01)"
      ],
      "metadata": {
        "id": "YkkIG0zgLwNG"
      },
      "execution_count": 42,
      "outputs": []
    },
    {
      "cell_type": "code",
      "source": [
        "X=np.linspace(-10,10,120)\n",
        "plt.scatter(x,y)\n",
        "plt.plot(X,M(X,theta2))\n"
      ],
      "metadata": {
        "colab": {
          "base_uri": "https://localhost:8080/",
          "height": 282
        },
        "id": "SxyAsTCvNayw",
        "outputId": "a1510f80-88bc-4a3b-9b8f-97619aebb589"
      },
      "execution_count": 43,
      "outputs": [
        {
          "output_type": "execute_result",
          "data": {
            "text/plain": [
              "[<matplotlib.lines.Line2D at 0x7f2eb6a42890>]"
            ]
          },
          "metadata": {},
          "execution_count": 43
        },
        {
          "output_type": "display_data",
          "data": {
            "text/plain": [
              "<Figure size 432x288 with 1 Axes>"
            ],
            "image/png": "[encoded data removed]"
          },
          "metadata": {
            "needs_background": "light"
          }
        }
      ]
    },
    {
      "cell_type": "code",
      "source": [],
      "metadata": {
        "id": "x-FwKHu2P1tC"
      },
      "execution_count": null,
      "outputs": []
    }
  ]
}