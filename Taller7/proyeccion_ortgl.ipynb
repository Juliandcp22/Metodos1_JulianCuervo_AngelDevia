{
  "nbformat": 4,
  "nbformat_minor": 0,
  "metadata": {
    "colab": {
      "provenance": [],
      "collapsed_sections": []
    },
    "kernelspec": {
      "name": "python3",
      "display_name": "Python 3"
    },
    "language_info": {
      "name": "python"
    }
  },
  "cells": [
    {
      "cell_type": "code",
      "execution_count": 9,
      "metadata": {
        "id": "__0-V2HKALmH"
      },
      "outputs": [],
      "source": [
        "import numpy as np"
      ]
    },
    {
      "cell_type": "code",
      "source": [
        "b = np.array([-3.,\n",
        "              -3.,\n",
        "               8.,\n",
        "              9.])\n",
        "    \n",
        "\n",
        "A= np.array([[3,1,-1],\n",
        "             [1,2,0],\n",
        "             [0,1,2],\n",
        "             [1,1,-1]])\n",
        "\n",
        "u1= A[:,0]\n",
        "u2= A[:,1]\n",
        "u3= A[:,2]\n",
        "\n",
        "u1"
      ],
      "metadata": {
        "colab": {
          "base_uri": "https://localhost:8080/"
        },
        "id": "dDTOy3ZfAygj",
        "outputId": "70a80c07-6fdd-4d09-dd45-bb49edb5466c"
      },
      "execution_count": 10,
      "outputs": [
        {
          "output_type": "execute_result",
          "data": {
            "text/plain": [
              "array([3, 1, 0, 1])"
            ]
          },
          "metadata": {},
          "execution_count": 10
        }
      ]
    },
    {
      "cell_type": "markdown",
      "source": [
        "x = A^T@b\n",
        " "
      ],
      "metadata": {
        "id": "LlFMK5LgE18P"
      }
    },
    {
      "cell_type": "code",
      "source": [
        "AT = np.zeros((3,4))\n",
        "\n",
        "AT[:,0] = A[0,:]\n",
        "AT[:,1] = A[1,:]\n",
        "AT[:,2] = A[2,:]\n",
        "AT[:,3] = A[3,:]\n",
        "\n",
        "AT"
      ],
      "metadata": {
        "colab": {
          "base_uri": "https://localhost:8080/"
        },
        "id": "1Drf2dvACLkt",
        "outputId": "30a42d00-72f1-4f08-8c74-fabf53539c9f"
      },
      "execution_count": 11,
      "outputs": [
        {
          "output_type": "execute_result",
          "data": {
            "text/plain": [
              "array([[ 3.,  1.,  0.,  1.],\n",
              "       [ 1.,  2.,  1.,  1.],\n",
              "       [-1.,  0.,  2., -1.]])"
            ]
          },
          "metadata": {},
          "execution_count": 11
        }
      ]
    },
    {
      "cell_type": "code",
      "source": [
        "x = np.linalg.pinv(A)@b \n",
        "np.linalg.pinv(A)"
      ],
      "metadata": {
        "colab": {
          "base_uri": "https://localhost:8080/"
        },
        "id": "ugbMzZatEoIh",
        "outputId": "715e4ad7-6ad2-4ad4-b652-3fe7d05909c9"
      },
      "execution_count": 18,
      "outputs": [
        {
          "output_type": "execute_result",
          "data": {
            "text/plain": [
              "array([[ 0.46268657, -0.2238806 ,  0.14925373, -0.1641791 ],\n",
              "       [-0.25373134,  0.47761194,  0.01492537,  0.28358209],\n",
              "       [ 0.14179104, -0.14925373,  0.43283582, -0.2761194 ]])"
            ]
          },
          "metadata": {},
          "execution_count": 18
        }
      ]
    },
    {
      "cell_type": "code",
      "source": [
        "pw = A@x\n",
        "np.round (pw)"
      ],
      "metadata": {
        "colab": {
          "base_uri": "https://localhost:8080/"
        },
        "id": "6RylcUcbTTgi",
        "outputId": "b57f7b41-4e0b-4f79-d990-7c956b09548e"
      },
      "execution_count": 13,
      "outputs": [
        {
          "output_type": "execute_result",
          "data": {
            "text/plain": [
              "array([-2.,  3.,  4.,  0.])"
            ]
          },
          "metadata": {},
          "execution_count": 13
        }
      ]
    },
    {
      "cell_type": "code",
      "source": [
        "def gramsch(u):\n",
        "  tam=u.shape\n",
        "  m = tam[0]\n",
        "  v = np.zeros((m))\n",
        "  v[0]=u[0]\n",
        "\n",
        "  for k in range(0,m):\n",
        "    v[k]=u[k]\n",
        "    for j in range(k):\n",
        "      v[k] = (v[k] - (np.dot(v[k],u[j]))) / (np.dot(u[j],u[j]))*u[j]\n",
        "    return v\n",
        "\n"
      ],
      "metadata": {
        "id": "cEcQXmasZjdL"
      },
      "execution_count": 14,
      "outputs": []
    },
    {
      "cell_type": "code",
      "source": [
        "v1 = u1\n",
        "v2 = u2 - (np.dot(u2,v1)/np.linalg.norm(v1)**2)*v1\n",
        "v3 = u3 - (np.dot(u3,v1)/np.linalg.norm(v1)**2)*v1 - (np.dot(u3,v2)/np.linalg.norm(v2)**2)*v2\n",
        "v1,v2,v3\n",
        "\n"
      ],
      "metadata": {
        "colab": {
          "base_uri": "https://localhost:8080/"
        },
        "id": "jMt1Ffj3t6_R",
        "outputId": "dbc57175-0cdc-41ff-ccf5-405e4dea06c3"
      },
      "execution_count": 15,
      "outputs": [
        {
          "output_type": "execute_result",
          "data": {
            "text/plain": [
              "(array([3, 1, 0, 1]),\n",
              " array([-0.63636364,  1.45454545,  1.        ,  0.45454545]),\n",
              " array([ 0.46341463, -0.48780488,  1.41463415, -0.90243902]))"
            ]
          },
          "metadata": {},
          "execution_count": 15
        }
      ]
    },
    {
      "cell_type": "code",
      "source": [
        "base= np.zeros((3,4))\n",
        "base\n",
        "base[0,:] = v1/np.linalg.norm(v1)\n",
        "base[1,:] = v2/np.linalg.norm(v2)\n",
        "base[2,:] = v3/np.linalg.norm(v3)\n",
        "v1 = base[0,:] \n",
        "v2 = base[1,:] \n",
        "v3 = base[2,:] \n",
        "base\n"
      ],
      "metadata": {
        "colab": {
          "base_uri": "https://localhost:8080/"
        },
        "id": "VVtmmsKqgR7C",
        "outputId": "88e7f599-f56a-4d74-c87a-e7dbac82815b"
      },
      "execution_count": 16,
      "outputs": [
        {
          "output_type": "execute_result",
          "data": {
            "text/plain": [
              "array([[ 0.90453403,  0.30151134,  0.        ,  0.30151134],\n",
              "       [-0.32961713,  0.75341057,  0.51796977,  0.2354408 ],\n",
              "       [ 0.25633581, -0.26982716,  0.78249877, -0.49918025]])"
            ]
          },
          "metadata": {},
          "execution_count": 16
        }
      ]
    },
    {
      "cell_type": "code",
      "source": [
        "c1 = b@v1\n",
        "c2 = b@v2\n",
        "c3 = b@v3\n",
        "\n",
        "def pw (g):\n",
        "  wp= c1*v1+c2*v2+c3*v3\n",
        "  return wp\n",
        "\n",
        "np.round(pw(b))"
      ],
      "metadata": {
        "colab": {
          "base_uri": "https://localhost:8080/"
        },
        "id": "eo71ag_6fOV_",
        "outputId": "f778793e-ec03-4cd0-b58c-e00a1732df09"
      },
      "execution_count": 17,
      "outputs": [
        {
          "output_type": "execute_result",
          "data": {
            "text/plain": [
              "array([-2.,  3.,  4., -0.])"
            ]
          },
          "metadata": {},
          "execution_count": 17
        }
      ]
    }
  ]
}