{
  "nbformat": 4,
  "nbformat_minor": 0,
  "metadata": {
    "colab": {
      "provenance": []
    },
    "kernelspec": {
      "name": "python3",
      "display_name": "Python 3"
    },
    "language_info": {
      "name": "python"
    }
  },
  "cells": [
    {
      "cell_type": "code",
      "execution_count": 1,
      "metadata": {
        "id": "ZuPrl38utKN-"
      },
      "outputs": [],
      "source": [
        "import numpy as np\n",
        "import matplotlib.pyplot as plt"
      ]
    },
    {
      "cell_type": "code",
      "source": [
        "N = int(1e5)\n",
        "\n",
        "ncoins = 4\n",
        "\n",
        "events = [-1,1]\n",
        "\n",
        "Sample = np.zeros((N,ncoins))\n",
        "\n",
        "for i in range(N):\n",
        "    \n",
        "    exp = np.random.choice(events, ncoins)\n",
        "    Sample[i] = exp\n",
        "\n"
      ],
      "metadata": {
        "id": "jtWdRCo32ElI"
      },
      "execution_count": 2,
      "outputs": []
    },
    {
      "cell_type": "code",
      "source": [
        "Sample"
      ],
      "metadata": {
        "colab": {
          "base_uri": "https://localhost:8080/"
        },
        "id": "VRWo2cxg2-Sw",
        "outputId": "ea0b2a6f-0156-43e0-c4c9-d5d2f524bcf8"
      },
      "execution_count": 3,
      "outputs": [
        {
          "output_type": "execute_result",
          "data": {
            "text/plain": [
              "array([[-1., -1., -1.,  1.],\n",
              "       [-1.,  1., -1.,  1.],\n",
              "       [ 1., -1., -1.,  1.],\n",
              "       ...,\n",
              "       [-1., -1., -1.,  1.],\n",
              "       [ 1.,  1., -1.,  1.],\n",
              "       [ 1., -1., -1., -1.]])"
            ]
          },
          "metadata": {},
          "execution_count": 3
        }
      ]
    },
    {
      "cell_type": "code",
      "source": [
        "events = 0\n",
        "\n",
        "for i in range(len(Sample)):\n",
        "    \n",
        "    NCaras = 0\n",
        "    Nsellos= 0\n",
        "    \n",
        "    for j in range(ncoins):\n",
        "        if Sample[i][j] == 1:\n",
        "          NCaras += 1\n",
        "        if Sample[i][j] == -1:\n",
        "          Nsellos += 1\n",
        "            \n",
        "    if NCaras== 2:\n",
        "      if Nsellos==2:\n",
        "        events+=1\n",
        "print(events/N,3/8)"
      ],
      "metadata": {
        "colab": {
          "base_uri": "https://localhost:8080/"
        },
        "id": "GGf8JJrP3Fhw",
        "outputId": "8c647c37-bf8a-4684-97a4-e734e43b9146"
      },
      "execution_count": 5,
      "outputs": [
        {
          "output_type": "stream",
          "name": "stdout",
          "text": [
            "0.37568 0.375\n"
          ]
        }
      ]
    }
  ]
}