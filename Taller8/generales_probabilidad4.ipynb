{
  "nbformat": 4,
  "nbformat_minor": 0,
  "metadata": {
    "colab": {
      "provenance": []
    },
    "kernelspec": {
      "name": "python3",
      "display_name": "Python 3"
    },
    "language_info": {
      "name": "python"
    }
  },
  "cells": [
    {
      "cell_type": "code",
      "execution_count": 69,
      "metadata": {
        "id": "iydSjXx2WXZc"
      },
      "outputs": [],
      "source": [
        "import numpy as np\n",
        "import matplotlib.pyplot as plt\n"
      ]
    },
    {
      "cell_type": "markdown",
      "source": [
        "$$ P_n= \\frac{365!}{(365-n)!\\cdot365^n} $$"
      ],
      "metadata": {
        "id": "HDsdDHBAkHS7"
      }
    },
    {
      "cell_type": "code",
      "source": [
        "\n",
        "def probabilidad(v):\n",
        "  fact = 1\n",
        "  for i in range(366-n,366):\n",
        "    fact = fact * i\n",
        "  p=fact/365**n\n",
        "  return p\n",
        "l=[]\n",
        "for n in range(1,81):\n",
        "  l.append(probabilidad(n))\n",
        "p=np.array(l)\n",
        "print(p)"
      ],
      "metadata": {
        "colab": {
          "base_uri": "https://localhost:8080/"
        },
        "id": "JIaI0JNFcnmx",
        "outputId": "1c9cfed4-eaf8-432d-cea1-79d88d3a0463"
      },
      "execution_count": 67,
      "outputs": [
        {
          "output_type": "stream",
          "name": "stdout",
          "text": [
            "[1.00000000e+00 9.97260274e-01 9.91795834e-01 9.83644088e-01\n",
            " 9.72864426e-01 9.59537516e-01 9.43764297e-01 9.25664708e-01\n",
            " 9.05376166e-01 8.83051822e-01 8.58858622e-01 8.32975211e-01\n",
            " 8.05589725e-01 7.76897488e-01 7.47098680e-01 7.16395995e-01\n",
            " 6.84992335e-01 6.53088582e-01 6.20881474e-01 5.88561616e-01\n",
            " 5.56311665e-01 5.24304692e-01 4.92702766e-01 4.61655742e-01\n",
            " 4.31300296e-01 4.01759180e-01 3.73140718e-01 3.45538528e-01\n",
            " 3.19031463e-01 2.93683757e-01 2.69545366e-01 2.46652472e-01\n",
            " 2.25028146e-01 2.04683135e-01 1.85616761e-01 1.67817894e-01\n",
            " 1.51265992e-01 1.35932179e-01 1.21780336e-01 1.08768190e-01\n",
            " 9.68483885e-02 8.59695284e-02 7.60771443e-02 6.71146314e-02\n",
            " 5.90241005e-02 5.17471566e-02 4.52255972e-02 3.94020271e-02\n",
            " 3.42203907e-02 2.96264204e-02 2.55680067e-02 2.19954907e-02\n",
            " 1.88618865e-02 1.61230372e-02 1.37377112e-02 1.16676451e-02\n",
            " 9.87754066e-03 8.33502061e-03 7.01055158e-03 5.87733913e-03\n",
            " 4.91120119e-03 4.09042510e-03 3.39561317e-03 2.80952103e-03\n",
            " 2.31689269e-03 1.90429536e-03 1.55995702e-03 1.27360875e-03\n",
            " 1.03633369e-03 8.40424035e-04 6.79246823e-04 5.47119359e-04\n",
            " 4.39194444e-04 3.51355555e-04 2.80121826e-04 2.22562547e-04\n",
            " 1.76220756e-04 1.39045419e-04 1.09331603e-04 8.56680507e-05]\n"
          ]
        }
      ]
    },
    {
      "cell_type": "code",
      "source": [
        "N= np.linspace(1,80,80)\n",
        "plt.plot(N,p)"
      ],
      "metadata": {
        "colab": {
          "base_uri": "https://localhost:8080/",
          "height": 282
        },
        "id": "VmrGUj2ncqwn",
        "outputId": "8547cfd8-5830-4cf5-f995-cebb02df4050"
      },
      "execution_count": 68,
      "outputs": [
        {
          "output_type": "execute_result",
          "data": {
            "text/plain": [
              "[<matplotlib.lines.Line2D at 0x7f7b014399d0>]"
            ]
          },
          "metadata": {},
          "execution_count": 68
        },
        {
          "output_type": "display_data",
          "data": {
            "text/plain": [
              "<Figure size 432x288 with 1 Axes>"
            ],
            "image/png": "[encoded data removed]"
          },
          "metadata": {
            "needs_background": "light"
          }
        }
      ]
    }
  ]
}