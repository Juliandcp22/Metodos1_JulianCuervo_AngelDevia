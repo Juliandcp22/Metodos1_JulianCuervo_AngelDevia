{
  "nbformat": 4,
  "nbformat_minor": 0,
  "metadata": {
    "colab": {
      "provenance": []
    },
    "kernelspec": {
      "name": "python3",
      "display_name": "Python 3"
    },
    "language_info": {
      "name": "python"
    }
  },
  "cells": [
    {
      "cell_type": "code",
      "execution_count": 3,
      "metadata": {
        "id": "gLzxpAh086DA"
      },
      "outputs": [],
      "source": [
        "import numpy as np\n"
      ]
    },
    {
      "cell_type": "code",
      "source": [
        "P1= 2/6\n",
        "P2= 4/6\n",
        "\n",
        "PR1= 3/10\n",
        "PN1= 1/10\n",
        "PV1= 6/10\n",
        "\n",
        "PR2= 6/10\n",
        "PN2= 2/10\n",
        "PV2= 2/10\n"
      ],
      "metadata": {
        "id": "LKU2WXz7_2L6"
      },
      "execution_count": 10,
      "outputs": []
    },
    {
      "cell_type": "code",
      "source": [
        "# Probabilidad de que la bola obtenida sea roja \n",
        "PR= PR1*P1 + PR2*P2\n",
        "print(\"La probabilidad de que la bola obtenida sea roja es :\" + str(PR))\n",
        "# Probabilidad de que la bola obtenida sea negra\n",
        "PN= PN1*P1 + PN2*P2\n",
        "print(\"La probabilidad de que la bola obtenida sea negra es:\" + str(PN))\n",
        "# Probabilidad de que sea de la urna 1 si se ha obtenido una bola negra\n",
        "P1N= P1*PN1/PN\n",
        "print(\"La probabilidad de que sea de la urna 1 si se ha obtenido una bola negra es:\" + str(P1N))\n",
        "# Probabilidad de que sea de la urna 2 si se ha obtenido una bola negra\n",
        "P2N= P2*PN2/PN\n",
        "print(\"La probabilidad de que sea de la urna 2 si se ha obtenido una bola negra es:\" + str(P2N))"
      ],
      "metadata": {
        "colab": {
          "base_uri": "https://localhost:8080/"
        },
        "id": "2qSRzbiFBwXN",
        "outputId": "f0e5863c-82e2-4708-a45d-df84da2f83c5"
      },
      "execution_count": 28,
      "outputs": [
        {
          "output_type": "stream",
          "name": "stdout",
          "text": [
            "La probabilidad de que la bola obtenida sea roja es :0.49999999999999994\n",
            "La probabilidad de que la bola obtenida sea negra es:0.16666666666666666\n",
            "La probabilidad de que sea de la urna 1 si se ha obtenido una bola negra es:0.2\n",
            "La probabilidad de que sea de la urna 2 si se ha obtenido una bola negra es:0.8\n"
          ]
        }
      ]
    }
  ]
}