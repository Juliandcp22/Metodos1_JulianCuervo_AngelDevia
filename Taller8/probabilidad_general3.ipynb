{
  "nbformat": 4,
  "nbformat_minor": 0,
  "metadata": {
    "colab": {
      "provenance": []
    },
    "kernelspec": {
      "name": "python3",
      "display_name": "Python 3"
    },
    "language_info": {
      "name": "python"
    }
  },
  "cells": [
    {
      "cell_type": "code",
      "execution_count": 1,
      "metadata": {
        "id": "MHIdipoRfCAf"
      },
      "outputs": [],
      "source": [
        "import numpy as np\n",
        "import matplotlib.pyplot as plt"
      ]
    },
    {
      "cell_type": "code",
      "source": [
        "PA=0.6\n",
        "PB=0.8\n",
        "PAnB=0.5"
      ],
      "metadata": {
        "id": "ElXOP0arvol2"
      },
      "execution_count": 6,
      "outputs": []
    },
    {
      "cell_type": "code",
      "source": [
        "PAUB=PA+PB-PAnB\n",
        "PAUB\n",
        "\n",
        "P= PAUB-PAnB\n",
        "P"
      ],
      "metadata": {
        "colab": {
          "base_uri": "https://localhost:8080/"
        },
        "id": "YXbJn7b2vpC0",
        "outputId": "7d9a2f76-c7ac-4588-a65a-1248fdd964a4"
      },
      "execution_count": 10,
      "outputs": [
        {
          "output_type": "execute_result",
          "data": {
            "text/plain": [
              "0.3999999999999999"
            ]
          },
          "metadata": {},
          "execution_count": 10
        }
      ]
    }
  ]
}