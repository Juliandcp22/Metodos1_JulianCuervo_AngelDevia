{
  "nbformat": 4,
  "nbformat_minor": 0,
  "metadata": {
    "colab": {
      "provenance": []
    },
    "kernelspec": {
      "name": "python3",
      "display_name": "Python 3"
    },
    "language_info": {
      "name": "python"
    }
  },
  "cells": [
    {
      "cell_type": "code",
      "execution_count": 1,
      "metadata": {
        "id": "ZHAZRsjNbPHD"
      },
      "outputs": [],
      "source": [
        "\n",
        "import numpy as np\n",
        "import matplotlib.pyplot as plt"
      ]
    },
    {
      "cell_type": "code",
      "source": [
        "N=100\n",
        "b=np.pi*3\n",
        "a=0\n",
        "\n",
        "x = np.linspace(a,b,N)\n",
        "\n",
        "def f(x):\n",
        "  return np.sin(x)\n",
        "\n",
        "\n",
        "y=f(x)\n",
        "dy= np.zeros_like(x).astype(int)\n",
        "\n",
        "for i in range (N):\n",
        "  if i==0:\n",
        "    dy[i]= (y[i+2]-2*y[i+1]+y[i])/4*pow((N),2)\n",
        "  elif i==N-1:\n",
        "    dy[i]= (y[i]-2*y[i-1]+y[i-2])/4*pow((N),2)\n",
        "  else:\n",
        "    dy[i]= (y[i+1]-2*y[i]+y[i-1])/4*pow((N),2)\n",
        "\n",
        "\n",
        "\n",
        " \n",
        "#plt.plot(x,y,'y')\n",
        "plt.plot(x,dy,'r-')\n",
        "plt.show()\n",
        "\n",
        "        "
      ],
      "metadata": {
        "id": "FtjPwJC_iNMI",
        "colab": {
          "base_uri": "https://localhost:8080/",
          "height": 265
        },
        "outputId": "21064d1d-567d-4d88-edfe-9477670aa0ea"
      },
      "execution_count": 2,
      "outputs": [
        {
          "output_type": "display_data",
          "data": {
            "text/plain": [
              "<Figure size 432x288 with 1 Axes>"
            ],
            "image/png": "[encoded data removed]"
          },
          "metadata": {
            "needs_background": "light"
          }
        }
      ]
    },
    {
      "cell_type": "code",
      "source": [
        "\n",
        "a=10\n",
        "b=-10\n",
        "c=2000\n",
        "\n",
        "x = np.linspace(a,b,c)\n",
        "h=1/20\n",
        "\n",
        "def fun (x):\n",
        "   return 1/(np.sqrt(1+np.exp(-pow(x,2)))) \n",
        "\n",
        "def dcentral(x,h,fun):\n",
        "   dc = (fun(x+h)-fun(x-h))/(2*h)\n",
        "   return dc\n",
        "\n",
        "def dexacta(x):\n",
        "   de = (2*x*np.exp(-x**2))/(np.exp(-x**2)+1)**2\n",
        "   return de\n",
        "\n"
      ],
      "metadata": {
        "id": "HRkDjFIpiRJ8"
      },
      "execution_count": 3,
      "outputs": []
    },
    {
      "cell_type": "code",
      "source": [
        "LisyAprox = list(dcentral(x,h,fun))\n",
        "Lisx = list(x) \n",
        "ListyExac = list(dexacta(x))\n",
        "\n",
        "\n",
        "IndiceMaxAprox = np.argmax(LisyAprox)\n",
        "IndiceMinAprox = np.argmin(LisyAprox)\n",
        "MaxRespectoEjeX = Lisx[IndiceMaxAprox]\n",
        "MinRespectoEjeX = Lisx[IndiceMinAprox]\n",
        "\n",
        "IndiceMaxExac = np.argmax(ListyExac)\n",
        "IndiceMinExac= np.argmin(ListyExac)\n",
        "MaxRespectoEjeX = Lisx[IndiceMaxExac]\n",
        "MinRespectoEjeX = Lisx[IndiceMinExac]\n",
        "\n",
        "errormax = ((IndiceMaxAprox-IndiceMaxExac)/IndiceMaxExac)*100\n",
        "errormin = ((IndiceMinAprox-IndiceMinExac)/IndiceMinExac)*-100\n",
        "\n",
        "plt.plot(x,dcentral(x,h,fun))\n",
        "plt.plot(x,dexacta(x))\n",
        "plt.scatter(Lisx[IndiceMaxAprox],LisyAprox[IndiceMaxAprox])\n",
        "plt.scatter(Lisx[IndiceMinAprox],LisyAprox[IndiceMinAprox])\n",
        "plt.scatter(Lisx[IndiceMaxExac],ListyExac[IndiceMaxExac])\n",
        "plt.scatter(Lisx[IndiceMinExac],ListyExac[IndiceMinExac])\n",
        "plt.legend()\n",
        "\n",
        "print(errormax,\"%\")\n",
        "print(errormin,\"%\")"
      ],
      "metadata": {
        "colab": {
          "base_uri": "https://localhost:8080/",
          "height": 317
        },
        "id": "Vt65cyjgaDxJ",
        "outputId": "97fee920-9925-46a6-d28d-5c60544ab705"
      },
      "execution_count": 4,
      "outputs": [
        {
          "output_type": "stream",
          "name": "stderr",
          "text": [
            "WARNING:matplotlib.legend:No handles with labels found to put in legend.\n"
          ]
        },
        {
          "output_type": "stream",
          "name": "stdout",
          "text": [
            "0.8918617614269788 %\n",
            "0.7259528130671506 %\n"
          ]
        },
        {
          "output_type": "display_data",
          "data": {
            "text/plain": [
              "<Figure size 432x288 with 1 Axes>"
            ],
            "image/png": "[encoded data removed]"
          },
          "metadata": {
            "needs_background": "light"
          }
        }
      ]
    },
    {
      "cell_type": "code",
      "source": [
        "M = [1,0,-1]\n",
        "dc = fun(x)\n",
        "\n",
        "\n",
        "def convol(x, h, dc):\n",
        "  m=-1\n",
        "  sumat=0\n",
        "  lista=fun(x)\n",
        "  n=0\n",
        "  while m<=1: \n",
        "    sumat = M[m+1]*lista[n-m] \n",
        "    n += 1\n",
        "    m +=1\n",
        "  return (1/2*h)*sumat\n",
        "print(convol(x,h,dc))\n"
      ],
      "metadata": {
        "colab": {
          "base_uri": "https://localhost:8080/"
        },
        "id": "dqEQAS_Zimlr",
        "outputId": "dcd76cbe-ef73-44e2-e5f3-d0b19efca981"
      },
      "execution_count": 6,
      "outputs": [
        {
          "output_type": "stream",
          "name": "stdout",
          "text": [
            "-0.025\n"
          ]
        }
      ]
    },
    {
      "cell_type": "code",
      "source": [],
      "metadata": {
        "id": "mV8Nb6sU8BqJ"
      },
      "execution_count": null,
      "outputs": []
    }
  ]
}