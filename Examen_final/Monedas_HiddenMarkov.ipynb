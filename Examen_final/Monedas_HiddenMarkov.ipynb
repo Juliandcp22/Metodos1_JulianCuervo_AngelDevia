{
  "nbformat": 4,
  "nbformat_minor": 0,
  "metadata": {
    "colab": {
      "provenance": []
    },
    "kernelspec": {
      "name": "python3",
      "display_name": "Python 3"
    },
    "language_info": {
      "name": "python"
    }
  },
  "cells": [
    {
      "cell_type": "code",
      "execution_count": 1,
      "metadata": {
        "id": "qLOEM-bfI0fc"
      },
      "outputs": [],
      "source": [
        "import numpy as np\n",
        "import matplotlib.pyplot as plt\n",
        "from itertools import permutations\n",
        "from itertools import combinations\n",
        "from itertools import combinations_with_replacement\n"
      ]
    },
    {
      "cell_type": "markdown",
      "source": [
        "# **a**)"
      ],
      "metadata": {
        "id": "eGJDZzTfD5Y1"
      }
    },
    {
      "cell_type": "code",
      "source": [
        "States=np.array([0,1])\n",
        "Prior =  np.array([0.2,0.8])"
      ],
      "metadata": {
        "id": "MzQ7pzLfW0Td"
      },
      "execution_count": 2,
      "outputs": []
    },
    {
      "cell_type": "code",
      "source": [
        "T= np.array([[0.8,0.2],\\\n",
        "            [0.2,0.8]])\n",
        "\n",
        "E= np.array([[0.5,0.9],\\\n",
        "            [0.5,0.1]])\n",
        "\n"
      ],
      "metadata": {
        "id": "WfxVyJX-K7nn"
      },
      "execution_count": 3,
      "outputs": []
    },
    {
      "cell_type": "code",
      "source": [
        "DictH = {0:'Justa',1:'Sesgada'}\n",
        "DictH[0]"
      ],
      "metadata": {
        "colab": {
          "base_uri": "https://localhost:8080/",
          "height": 35
        },
        "id": "viLXyfpxYiaW",
        "outputId": "c828310f-d52d-4266-a5f3-f937b2d8d431"
      },
      "execution_count": 4,
      "outputs": [
        {
          "output_type": "execute_result",
          "data": {
            "text/plain": [
              "'Justa'"
            ],
            "application/vnd.google.colaboratory.intrinsic+json": {
              "type": "string"
            }
          },
          "metadata": {},
          "execution_count": 4
        }
      ]
    },
    {
      "cell_type": "code",
      "source": [
        "DictO = {0:'Cara',1:'Sello'}\n",
        "DictO[1]"
      ],
      "metadata": {
        "colab": {
          "base_uri": "https://localhost:8080/",
          "height": 35
        },
        "id": "1J1-Sg1wYiwX",
        "outputId": "182b1d3b-ac84-45e3-bc73-f67d9eafb3b7"
      },
      "execution_count": 5,
      "outputs": [
        {
          "output_type": "execute_result",
          "data": {
            "text/plain": [
              "'Sello'"
            ],
            "application/vnd.google.colaboratory.intrinsic+json": {
              "type": "string"
            }
          },
          "metadata": {},
          "execution_count": 5
        }
      ]
    },
    {
      "cell_type": "code",
      "source": [
        "Obs = np.array([1,0,0,0,1,0,1,0])"
      ],
      "metadata": {
        "id": "3XjZqwF7Y9Ma"
      },
      "execution_count": 6,
      "outputs": []
    },
    {
      "cell_type": "code",
      "source": [
        "def GetHiddenStates(States, N):\n",
        "    \n",
        "    CStates = list( combinations_with_replacement(States,N) )\n",
        "    \n",
        "    Permu = []\n",
        "    \n",
        "    for it in CStates:\n",
        "        p = list(permutations(it,N))\n",
        "        \n",
        "        for i in p:\n",
        "            if i not in Permu:\n",
        "                Permu.append(i)\n",
        "    \n",
        "    print(CStates)\n",
        "    return np.array(Permu)"
      ],
      "metadata": {
        "id": "UNjPbr-6K78W"
      },
      "execution_count": 7,
      "outputs": []
    },
    {
      "cell_type": "code",
      "source": [
        "HiddenStates = GetHiddenStates(States,8)"
      ],
      "metadata": {
        "colab": {
          "base_uri": "https://localhost:8080/"
        },
        "id": "YVP_Qig3Xxpk",
        "outputId": "8bdf8d05-40ef-4051-fcb4-e315eece80f1"
      },
      "execution_count": 8,
      "outputs": [
        {
          "output_type": "stream",
          "name": "stdout",
          "text": [
            "[(0, 0, 0, 0, 0, 0, 0, 0), (0, 0, 0, 0, 0, 0, 0, 1), (0, 0, 0, 0, 0, 0, 1, 1), (0, 0, 0, 0, 0, 1, 1, 1), (0, 0, 0, 0, 1, 1, 1, 1), (0, 0, 0, 1, 1, 1, 1, 1), (0, 0, 1, 1, 1, 1, 1, 1), (0, 1, 1, 1, 1, 1, 1, 1), (1, 1, 1, 1, 1, 1, 1, 1)]\n"
          ]
        }
      ]
    },
    {
      "cell_type": "code",
      "source": [
        "HiddenStates"
      ],
      "metadata": {
        "colab": {
          "base_uri": "https://localhost:8080/"
        },
        "id": "yF_WA0_YXxtF",
        "outputId": "a24921a1-5ce3-4289-8620-622a1661b1fe"
      },
      "execution_count": 9,
      "outputs": [
        {
          "output_type": "execute_result",
          "data": {
            "text/plain": [
              "array([[0, 0, 0, ..., 0, 0, 0],\n",
              "       [0, 0, 0, ..., 0, 0, 1],\n",
              "       [0, 0, 0, ..., 0, 1, 0],\n",
              "       ...,\n",
              "       [1, 1, 1, ..., 1, 0, 1],\n",
              "       [1, 1, 1, ..., 1, 1, 0],\n",
              "       [1, 1, 1, ..., 1, 1, 1]])"
            ]
          },
          "metadata": {},
          "execution_count": 9
        }
      ]
    },
    {
      "cell_type": "code",
      "source": [
        "def GetProb(T,E,Obs,States,Prior):\n",
        "    \n",
        "    n = len(Obs)\n",
        "    p = 1.\n",
        "    \n",
        "    p *= Prior[States[0] ]\n",
        "    \n",
        "    for i in range(n-1):\n",
        "        p *= T[ States[i+1], States[i] ]\n",
        "    \n",
        "    \n",
        "    \n",
        "    for i in range(n):\n",
        "        p *= E[ Obs[i], States[i] ]\n",
        "        \n",
        "    #print(p, State)\n",
        "    \n",
        "    return p"
      ],
      "metadata": {
        "id": "cDQedpISYRRh"
      },
      "execution_count": 10,
      "outputs": []
    },
    {
      "cell_type": "code",
      "source": [
        "dim = HiddenStates.shape[0]\n",
        "P1 = np.zeros(dim)\n",
        "\n",
        "\n",
        "for i in range(dim):\n",
        "    P1[i] = GetProb(T,E,Obs,HiddenStates[i],Prior)\n",
        "    \n",
        "#print(P1)"
      ],
      "metadata": {
        "id": "JbAp4yZEV5j0"
      },
      "execution_count": 11,
      "outputs": []
    },
    {
      "cell_type": "markdown",
      "source": [
        "# **b)**"
      ],
      "metadata": {
        "id": "L0M3LhR1M3wB"
      }
    },
    {
      "cell_type": "code",
      "source": [
        "maxP1 = np.max(P1)\n",
        "ii1 = np.where( P1 == np.amax(P1))\n",
        "print(HiddenStates[ii1],maxP1)"
      ],
      "metadata": {
        "colab": {
          "base_uri": "https://localhost:8080/"
        },
        "id": "jX6TWpxxIH34",
        "outputId": "76493d3e-0e31-4578-9f49-a7d45c90f599"
      },
      "execution_count": 12,
      "outputs": [
        {
          "output_type": "stream",
          "name": "stdout",
          "text": [
            "[[1 1 1 1 0 0 0 0]] 0.0001911029760000001\n"
          ]
        }
      ]
    },
    {
      "cell_type": "code",
      "source": [
        "coin= HiddenStates[ii1]\n",
        "for i in coin[0]:\n",
        "  print(DictH[i])\n"
      ],
      "metadata": {
        "colab": {
          "base_uri": "https://localhost:8080/"
        },
        "id": "on-125qgJluK",
        "outputId": "a51179e8-f89e-4c72-a13b-2b3dc4305d38"
      },
      "execution_count": 13,
      "outputs": [
        {
          "output_type": "stream",
          "name": "stdout",
          "text": [
            "Sesgada\n",
            "Sesgada\n",
            "Sesgada\n",
            "Sesgada\n",
            "Justa\n",
            "Justa\n",
            "Justa\n",
            "Justa\n"
          ]
        }
      ]
    },
    {
      "cell_type": "code",
      "source": [
        "plt.plot(P1,color='k')\n",
        "plt.axhline(y=maxP1,color='r')\n",
        "plt.grid()"
      ],
      "metadata": {
        "colab": {
          "base_uri": "https://localhost:8080/",
          "height": 269
        },
        "id": "nUFU2PkPIcvd",
        "outputId": "8ae804e4-5c32-4941-843c-8cf802966184"
      },
      "execution_count": 14,
      "outputs": [
        {
          "output_type": "display_data",
          "data": {
            "text/plain": [
              "<Figure size 432x288 with 1 Axes>"
            ],
            "image/png": "[encoded data removed]"
          },
          "metadata": {
            "needs_background": "light"
          }
        }
      ]
    },
    {
      "cell_type": "markdown",
      "source": [
        "# **c)**"
      ],
      "metadata": {
        "id": "KTMmO-3CNwIU"
      }
    },
    {
      "cell_type": "code",
      "source": [
        "allObs=HiddenStates.copy()"
      ],
      "metadata": {
        "id": "moqvsX4xrSoJ"
      },
      "execution_count": 15,
      "outputs": []
    },
    {
      "cell_type": "code",
      "source": [
        "NObs = allObs.shape[0]\n",
        "PObs = np.zeros(NObs)\n",
        "\n",
        "for j in range(NObs):\n",
        "    \n",
        "    dim = HiddenStates.shape[0]\n",
        "    P = np.zeros(dim)\n",
        "    \n",
        "    for i in range(dim):\n",
        "        P[i] = GetProb(T,E,allObs[j],HiddenStates[i],Prior)\n",
        "        \n",
        "    PObs[j] = np.sum(P)\n",
        "\n",
        "print(PObs)\n"
      ],
      "metadata": {
        "colab": {
          "base_uri": "https://localhost:8080/"
        },
        "id": "eXPavd9MNwVy",
        "outputId": "d440c75f-33ba-4c08-dbd8-d1a119160290"
      },
      "execution_count": 16,
      "outputs": [
        {
          "output_type": "stream",
          "name": "stdout",
          "text": [
            "[0.13698241 0.04114921 0.0347373  0.03175272 0.03026766 0.02932288\n",
            " 0.02830811 0.02656789 0.02297818 0.01870516 0.01330002 0.01467809\n",
            " 0.01079433 0.01067359 0.01276253 0.00956961 0.00877661 0.00936674\n",
            " 0.01172117 0.00883478 0.00776184 0.00767971 0.00853533 0.01088136\n",
            " 0.00811519 0.00697382 0.00661175 0.00679511 0.00764233 0.00970066\n",
            " 0.00694603 0.00590355 0.00547305 0.00537647 0.00555143 0.00611094\n",
            " 0.0074164  0.00955193 0.00649319 0.00616157 0.00733671 0.00505945\n",
            " 0.00428819 0.00497251 0.00456283 0.0048075  0.00623446 0.00432462\n",
            " 0.00337544 0.00382959 0.00321043 0.00330316 0.00416108 0.00372302\n",
            " 0.00355961 0.00405611 0.00553322 0.00381405 0.00283376 0.00316972\n",
            " 0.00249084 0.00251514 0.00309313 0.00256378 0.00241017 0.0026765\n",
            " 0.00353481 0.00309969 0.00278698 0.0028754  0.00342205 0.00478004\n",
            " 0.00319794 0.00231328 0.00256666 0.00193925 0.00193444 0.00234078\n",
            " 0.00183427 0.00170131 0.00184945 0.00237437 0.00193054 0.00171671\n",
            " 0.0017367  0.00200341 0.00268914 0.00229023 0.00199057 0.00192969\n",
            " 0.00206826 0.00249578 0.00348841 0.00497054 0.0033236  0.00304519\n",
            " 0.00311076 0.00376161 0.00253029 0.00206191 0.00205278 0.00246933\n",
            " 0.0021158  0.0019167  0.00225856 0.00220175 0.00235363 0.00310439\n",
            " 0.0020782  0.00155134 0.00151111 0.00180946 0.00141526 0.00124957\n",
            " 0.00146357 0.0013954  0.00148394 0.00194555 0.00158206 0.00129338\n",
            " 0.00148593 0.00131375 0.00137119 0.00175811 0.00165634 0.00160044\n",
            " 0.00185224 0.00257438 0.00167529 0.00118368 0.00113585 0.00135576\n",
            " 0.00098913 0.00085454 0.00099563 0.00093056 0.0009849  0.00128408\n",
            " 0.00096595 0.00077289 0.00088288 0.00076216 0.00079048 0.00100575\n",
            " 0.00092683 0.00089159 0.00102519 0.00141394 0.0010992  0.00083817\n",
            " 0.00094468 0.00076896 0.00078459 0.00097797 0.00084688 0.00080403\n",
            " 0.00090653 0.00122058 0.00112224 0.00101556 0.00105958 0.00128275\n",
            " 0.00182922 0.00256794 0.00168142 0.00152212 0.00150379 0.00155895\n",
            " 0.00189063 0.00122933 0.00098331 0.00094521 0.0009748  0.00118099\n",
            " 0.00098838 0.00086356 0.00087339 0.001054   0.00095838 0.00088149\n",
            " 0.00104234 0.00102894 0.00110308 0.00145974 0.00091963 0.00066712\n",
            " 0.00062556 0.00064202 0.00077707 0.00058547 0.00049591 0.00049813\n",
            " 0.0006003  0.00053225 0.00048646 0.0005744  0.0005641  0.00060404\n",
            " 0.00079827 0.00062195 0.00048718 0.00048042 0.00057676 0.00047552\n",
            " 0.00042628 0.00050108 0.00048415 0.00051648 0.00067961 0.00057942\n",
            " 0.00047945 0.00055256 0.00049484 0.00051819 0.00066708 0.00063555\n",
            " 0.00061546 0.00071458 0.00099692 0.00129252 0.00080697 0.00071883\n",
            " 0.00070371 0.00070597 0.00073395 0.0008906  0.00053072 0.00040913\n",
            " 0.00038751 0.00038632 0.00040116 0.00048667 0.00039234 0.00033728\n",
            " 0.00032959 0.00034098 0.00041336 0.00036815 0.00032701 0.0003319\n",
            " 0.00040083 0.00036912 0.00034056 0.00040299 0.00039881 0.00042778\n",
            " 0.00056647 0.00060902 0.00033276 0.00028253 0.00027346 0.00027216\n",
            " 0.00027387 0.00028489 0.00034573 0.00023643]\n"
          ]
        }
      ]
    },
    {
      "cell_type": "markdown",
      "source": [
        "# **d)**"
      ],
      "metadata": {
        "id": "3IRw4rHAEcoU"
      }
    },
    {
      "cell_type": "code",
      "source": [
        "sumaPo=0\n",
        "for Obs in allObs:\n",
        "  dim = HiddenStates.shape[0]\n",
        "  P = np.zeros(dim)\n",
        "\n",
        "\n",
        "  for i in range(dim):\n",
        "      P[i] = GetProb(T,E,Obs,HiddenStates[i],Prior)\n",
        "  sumaPo+=np.sum(P, axis=0)\n",
        "    \n",
        "#print(P)\n",
        "#print(np.shape(P))\n",
        "sumaPo"
      ],
      "metadata": {
        "colab": {
          "base_uri": "https://localhost:8080/"
        },
        "id": "1I-jLFUIZhTs",
        "outputId": "0c6dc671-b991-4f79-cdfa-bd4c5eecf884"
      },
      "execution_count": 17,
      "outputs": [
        {
          "output_type": "execute_result",
          "data": {
            "text/plain": [
              "1.0000000000000002"
            ]
          },
          "metadata": {},
          "execution_count": 17
        }
      ]
    },
    {
      "cell_type": "markdown",
      "source": [
        "# **e)** "
      ],
      "metadata": {
        "id": "chcl0cWzlp2H"
      }
    },
    {
      "cell_type": "code",
      "source": [
        "prior2= np.array([0.6,0.4])"
      ],
      "metadata": {
        "id": "CW3LWxtTkHKV"
      },
      "execution_count": 18,
      "outputs": []
    },
    {
      "cell_type": "code",
      "source": [
        "dim = HiddenStates.shape[0]\n",
        "P2 = np.zeros(dim)\n",
        "\n",
        "\n",
        "for i in range(dim):\n",
        "    P2[i] = GetProb(T,E,Obs,HiddenStates[i],prior2)\n",
        "    \n",
        "print(P2)\n",
        "#print(np.shape(P))"
      ],
      "metadata": {
        "colab": {
          "base_uri": "https://localhost:8080/"
        },
        "id": "J-LnzB2NkcLU",
        "outputId": "631acaff-6ff7-4ac3-fe9a-69ab044ff3c0"
      },
      "execution_count": 19,
      "outputs": [
        {
          "output_type": "stream",
          "name": "stdout",
          "text": [
            "[4.915200e-04 2.457600e-05 6.144000e-06 6.144000e-06 6.144000e-06\n",
            " 6.144000e-06 6.144000e-06 6.144000e-06 1.638400e-05 4.915200e-06\n",
            " 3.072000e-07 1.228800e-06 3.072000e-07 7.680000e-08 1.228800e-06\n",
            " 3.072000e-07 7.680000e-08 7.680000e-08 1.228800e-06 3.072000e-07\n",
            " 7.680000e-08 7.680000e-08 7.680000e-08 1.228800e-06 3.072000e-07\n",
            " 7.680000e-08 7.680000e-08 7.680000e-08 7.680000e-08 1.228800e-06\n",
            " 8.192000e-07 2.048000e-07 2.048000e-07 2.048000e-07 2.048000e-07\n",
            " 2.048000e-07 3.276800e-06 9.830400e-07 6.144000e-08 6.144000e-08\n",
            " 2.457600e-07 6.144000e-08 3.840000e-09 1.536000e-08 6.144000e-08\n",
            " 1.536000e-08 2.457600e-07 6.144000e-08 3.840000e-09 1.536000e-08\n",
            " 3.840000e-09 9.600000e-10 1.536000e-08 6.144000e-08 1.536000e-08\n",
            " 1.536000e-08 2.457600e-07 6.144000e-08 3.840000e-09 1.536000e-08\n",
            " 3.840000e-09 9.600000e-10 1.536000e-08 3.840000e-09 9.600000e-10\n",
            " 9.600000e-10 1.536000e-08 6.144000e-08 1.536000e-08 1.536000e-08\n",
            " 1.536000e-08 2.457600e-07 1.638400e-07 1.024000e-08 4.096000e-08\n",
            " 1.024000e-08 2.560000e-09 4.096000e-08 1.024000e-08 2.560000e-09\n",
            " 2.560000e-09 4.096000e-08 1.024000e-08 2.560000e-09 2.560000e-09\n",
            " 2.560000e-09 4.096000e-08 1.638400e-07 4.096000e-08 4.096000e-08\n",
            " 4.096000e-08 4.096000e-08 6.553600e-07 1.966080e-07 1.228800e-08\n",
            " 1.228800e-08 1.228800e-08 4.915200e-08 1.228800e-08 7.680000e-10\n",
            " 7.680000e-10 3.072000e-09 1.228800e-08 7.680000e-10 3.072000e-09\n",
            " 1.228800e-08 3.072000e-09 4.915200e-08 1.228800e-08 7.680000e-10\n",
            " 7.680000e-10 3.072000e-09 7.680000e-10 4.800000e-11 1.920000e-10\n",
            " 7.680000e-10 1.920000e-10 3.072000e-09 1.228800e-08 7.680000e-10\n",
            " 3.072000e-09 7.680000e-10 1.920000e-10 3.072000e-09 1.228800e-08\n",
            " 3.072000e-09 3.072000e-09 4.915200e-08 3.276800e-08 2.048000e-09\n",
            " 2.048000e-09 8.192000e-09 2.048000e-09 1.280000e-10 5.120000e-10\n",
            " 2.048000e-09 5.120000e-10 8.192000e-09 2.048000e-09 1.280000e-10\n",
            " 5.120000e-10 1.280000e-10 3.200000e-11 5.120000e-10 2.048000e-09\n",
            " 5.120000e-10 5.120000e-10 8.192000e-09 3.276800e-08 2.048000e-09\n",
            " 8.192000e-09 2.048000e-09 5.120000e-10 8.192000e-09 2.048000e-09\n",
            " 5.120000e-10 5.120000e-10 8.192000e-09 3.276800e-08 8.192000e-09\n",
            " 8.192000e-09 8.192000e-09 1.310720e-07 3.932160e-08 2.457600e-09\n",
            " 2.457600e-09 2.457600e-09 2.457600e-09 9.830400e-09 2.457600e-09\n",
            " 1.536000e-10 1.536000e-10 1.536000e-10 6.144000e-10 2.457600e-09\n",
            " 1.536000e-10 1.536000e-10 6.144000e-10 2.457600e-09 1.536000e-10\n",
            " 6.144000e-10 2.457600e-09 6.144000e-10 9.830400e-09 6.553600e-09\n",
            " 4.096000e-10 4.096000e-10 4.096000e-10 1.638400e-09 4.096000e-10\n",
            " 2.560000e-11 2.560000e-11 1.024000e-10 4.096000e-10 2.560000e-11\n",
            " 1.024000e-10 4.096000e-10 1.024000e-10 1.638400e-09 6.553600e-09\n",
            " 4.096000e-10 4.096000e-10 1.638400e-09 4.096000e-10 2.560000e-11\n",
            " 1.024000e-10 4.096000e-10 1.024000e-10 1.638400e-09 6.553600e-09\n",
            " 4.096000e-10 1.638400e-09 4.096000e-10 1.024000e-10 1.638400e-09\n",
            " 6.553600e-09 1.638400e-09 1.638400e-09 2.621440e-08 7.864320e-09\n",
            " 4.915200e-10 4.915200e-10 4.915200e-10 4.915200e-10 4.915200e-10\n",
            " 1.966080e-09 1.310720e-09 8.192000e-11 8.192000e-11 8.192000e-11\n",
            " 8.192000e-11 3.276800e-10 1.310720e-09 8.192000e-11 8.192000e-11\n",
            " 8.192000e-11 3.276800e-10 1.310720e-09 8.192000e-11 8.192000e-11\n",
            " 3.276800e-10 1.310720e-09 8.192000e-11 3.276800e-10 1.310720e-09\n",
            " 3.276800e-10 5.242880e-09 1.572864e-09 2.621440e-10 2.621440e-10\n",
            " 2.621440e-10 2.621440e-10 2.621440e-10 2.621440e-10 1.048576e-09\n",
            " 8.388608e-10]\n"
          ]
        }
      ]
    },
    {
      "cell_type": "code",
      "source": [
        "PObs2 = np.sum(P2)\n",
        "print(PObs2)"
      ],
      "metadata": {
        "colab": {
          "base_uri": "https://localhost:8080/"
        },
        "id": "mNxnjx6akrs_",
        "outputId": "543b8cb1-86ab-44a2-f713-9dde97aeb336"
      },
      "execution_count": 20,
      "outputs": [
        {
          "output_type": "stream",
          "name": "stdout",
          "text": [
            "0.0005928642056448001\n"
          ]
        }
      ]
    },
    {
      "cell_type": "code",
      "source": [
        "maxP2 = np.max(P2)\n",
        "ii2 = np.where( P2 == np.amax(P2))\n",
        "print(HiddenStates[ii2],maxP2)"
      ],
      "metadata": {
        "colab": {
          "base_uri": "https://localhost:8080/"
        },
        "id": "KobLZjKwkrv7",
        "outputId": "207338c7-673c-4ab1-e8b6-f74237721098"
      },
      "execution_count": 21,
      "outputs": [
        {
          "output_type": "stream",
          "name": "stdout",
          "text": [
            "[[0 0 0 0 0 0 0 0]] 0.0004915200000000002\n"
          ]
        }
      ]
    },
    {
      "cell_type": "code",
      "source": [
        "coin= HiddenStates[ii2]\n",
        "for i in coin[0]:\n",
        "  print(DictH[i])"
      ],
      "metadata": {
        "colab": {
          "base_uri": "https://localhost:8080/"
        },
        "id": "OzzHGZ8jPNsN",
        "outputId": "1fc86740-6e2b-4f31-e485-4bbb6d5a5157"
      },
      "execution_count": 22,
      "outputs": [
        {
          "output_type": "stream",
          "name": "stdout",
          "text": [
            "Justa\n",
            "Justa\n",
            "Justa\n",
            "Justa\n",
            "Justa\n",
            "Justa\n",
            "Justa\n",
            "Justa\n"
          ]
        }
      ]
    },
    {
      "cell_type": "code",
      "source": [
        "plt.plot(P2,color='k')\n",
        "plt.axhline(y=maxP2,color='r')"
      ],
      "metadata": {
        "colab": {
          "base_uri": "https://localhost:8080/",
          "height": 282
        },
        "id": "uUmOfJFKlMFV",
        "outputId": "8be92297-1ffa-42b3-99a6-e35ee7b99cd4"
      },
      "execution_count": 23,
      "outputs": [
        {
          "output_type": "execute_result",
          "data": {
            "text/plain": [
              "<matplotlib.lines.Line2D at 0x7f1bdd46b310>"
            ]
          },
          "metadata": {},
          "execution_count": 23
        },
        {
          "output_type": "display_data",
          "data": {
            "text/plain": [
              "<Figure size 432x288 with 1 Axes>"
            ],
            "image/png": "[encoded data removed]"
          },
          "metadata": {
            "needs_background": "light"
          }
        }
      ]
    },
    {
      "cell_type": "markdown",
      "source": [
        "El resultado si depende de la probabilidad a priori pues esta es el punto de partida para calcular el resto de probabilidades y tras probarse otro set de probabilidades a priori se obtiene otro array de probabilidades para las secuencias ocultas."
      ],
      "metadata": {
        "id": "ZuDnMUsXld7j"
      }
    }
  ]
}