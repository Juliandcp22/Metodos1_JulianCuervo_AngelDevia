{
  "cells": [
    {
      "cell_type": "code",
      "execution_count": 9,
      "metadata": {
        "id": "cKxk53tjpESv"
      },
      "outputs": [],
      "source": [
        "import numpy as np\n",
        "import matplotlib.pyplot as plt\n",
        "from scipy import integrate"
      ]
    },
    {
      "cell_type": "code",
      "execution_count": 10,
      "metadata": {
        "id": "1AF0WNTjuVHL"
      },
      "outputs": [],
      "source": [
        "class Integrator:\n",
        "    \n",
        "    def __init__(self, x,y):\n",
        "        \n",
        "        self.x = x\n",
        "        self.y = y\n",
        "        self.h = self.x[1] - self.x[0]\n",
        "        \n",
        "        self.integral = 0.\n",
        "        \n",
        "    def Trapezoid(self):\n",
        "        \n",
        "        self.integral = 0.\n",
        "        \n",
        "        self.integral += 0.5*(self.y[0] + self.y[-1])\n",
        "        \n",
        "        self.integral += np.sum( self.y[1:-1] )\n",
        "        \n",
        "        return self.integral*self.h\n",
        "    \n",
        "    def GetTrapezoidError(self,f):\n",
        "        \n",
        "        d = (f( self.x + self.h ) - 2*f(self.x) + f( self.x - self.h))/self.h**2 \n",
        "        \n",
        "        \n",
        "        max_ = np.max(np.abs(d))\n",
        "        \n",
        "        self.error = (max_* (self.x[-1]-self.x[0])**3 )/(12*(len(self.x)-1)**2)\n",
        "        \n",
        "        return self.error\n",
        "    def Simpson(self):\n",
        "        \n",
        "        self.integral = 0.\n",
        "        \n",
        "        self.integral += self.y[0] + self.y[-1]\n",
        "        \n",
        "        for i in range( len(y[1:-1]) ):\n",
        "            if i%2 == 0:\n",
        "                self.integral += 4*y[i+1]\n",
        "            else:\n",
        "                self.integral += 2*y[i+1]\n",
        "                \n",
        "        return self.integral*self.h/3\n",
        "    \n",
        "    def GetSimpsonError(self,f):\n",
        "        \n",
        "        d = (f( self.x + 2*self.h ) - \\\n",
        "             4*f( self.x + self.h ) + \\\n",
        "             6*f(self.x) - \\\n",
        "             4*f( self.x - self.h ) + \\\n",
        "             f(self.x - 2*self.h))/self.h**4\n",
        "        \n",
        "        max_ = np.max( np.abs(d) )\n",
        "        \n",
        "        self.error = (self.x[-1] - self.x[0])*self.h**4 * max_ / 180.\n",
        "        \n",
        "        return self.error\n"
      ]
    },
    {
      "cell_type": "code",
      "execution_count": 13,
      "metadata": {
        "id": "MgSsmJApwKuT"
      },
      "outputs": [],
      "source": [
        "f = lambda x: np.exp(-x**2)\n",
        "n=10\n",
        "x = np.linspace(0,1,n)\n",
        "y = f(x)\n"
      ]
    },
    {
      "cell_type": "code",
      "execution_count": 17,
      "metadata": {
        "colab": {
          "base_uri": "https://localhost:8080/"
        },
        "id": "maoqYbrAvqTy",
        "outputId": "81be272a-a236-419a-9914-519cf67fac38"
      },
      "outputs": [
        {
          "output_type": "execute_result",
          "data": {
            "text/plain": [
              "<__main__.Integrator at 0x7fb5c6047550>"
            ]
          },
          "metadata": {},
          "execution_count": 17
        }
      ],
      "source": [
        "int1 = Integrator(x,y)\n",
        "int1"
      ]
    },
    {
      "cell_type": "code",
      "source": [
        "int1.Trapezoid()"
      ],
      "metadata": {
        "colab": {
          "base_uri": "https://localhost:8080/"
        },
        "id": "q1W1p_-rEOkg",
        "outputId": "eff8acd8-5696-433f-a149-df300b24aa44"
      },
      "execution_count": 18,
      "outputs": [
        {
          "output_type": "execute_result",
          "data": {
            "text/plain": [
              "0.7460668679126695"
            ]
          },
          "metadata": {},
          "execution_count": 18
        }
      ]
    }
  ],
  "metadata": {
    "colab": {
      "provenance": []
    },
    "kernelspec": {
      "display_name": "Python 3",
      "name": "python3"
    },
    "language_info": {
      "name": "python"
    }
  },
  "nbformat": 4,
  "nbformat_minor": 0
}