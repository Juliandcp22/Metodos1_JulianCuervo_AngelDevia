{
  "cells": [
    {
      "cell_type": "code",
      "execution_count": null,
      "metadata": {
        "id": "i1gpuSHaZPhG"
      },
      "outputs": [],
      "source": [
        "import numpy as np\n",
        "import matplotlib.pyplot as plt"
      ]
    },
    {
      "cell_type": "code",
      "execution_count": null,
      "metadata": {
        "id": "iFumRuc5aW0h"
      },
      "outputs": [],
      "source": [
        "fx= lambda x: np.exp(x)*np.sin(x)\n",
        "a = 1\n",
        "b = 9\n",
        "n = 10\n",
        "mp = n+1\n",
        "xi = np.linspace(a,b,mp)\n",
        "fi = fx(xi)\n",
        "total = 0\n",
        "\n",
        "\n",
        "ml = mp*15\n",
        "xj = np.linspace(a,b,ml)\n",
        "fj = fx(xj)\n",
        "\n",
        "## Metodo trapecio simple \n",
        "\n",
        "for j in range (0,n,1):\n",
        "  h = xi[j+1]-xi[j]\n",
        "  areas = h*(fi[j]+fi[j+1])/2\n",
        "  total = total + areas\n",
        "integral = total  "
      ]
    },
    {
      "cell_type": "code",
      "execution_count": null,
      "metadata": {
        "colab": {
          "base_uri": "https://localhost:8080/",
          "height": 320
        },
        "id": "p6bT7HxGa65m",
        "outputId": "95550b61-778a-48d6-91ed-f88b2fa0862e"
      },
      "outputs": [
        {
          "name": "stderr",
          "output_type": "stream",
          "text": [
            "/usr/local/lib/python3.7/dist-packages/ipykernel_launcher.py:4: MatplotlibDeprecationWarning: The parameter where must have the same size as x in fill_between(). This will become an error in future versions of Matplotlib.\n",
            "  after removing the cwd from sys.path.\n"
          ]
        },
        {
          "data": {
            "image/png": "[encoded data removed]",
            "text/plain": [
              "<Figure size 432x288 with 1 Axes>"
            ]
          },
          "metadata": {},
          "output_type": "display_data"
        }
      ],
      "source": [
        "plt.plot(xi,fi, 'ro')\n",
        "plt.plot(xj,fj, 'r')\n",
        "\n",
        "plt.fill_between(xi,0,fi,'b')\n",
        "\n",
        "for i in range (0,mp,1):\n",
        " plt.axvline(xi[i],color='w')\n",
        "plt.show()"
      ]
    },
    {
      "cell_type": "code",
      "execution_count": null,
      "metadata": {
        "colab": {
          "base_uri": "https://localhost:8080/"
        },
        "id": "A-oLw2mAbQD8",
        "outputId": "8d2ef7e0-405f-405b-a83d-a3f0242004b6"
      },
      "outputs": [
        {
          "name": "stdout",
          "output_type": "stream",
          "text": [
            "Integral:  5157.260094278932\n"
          ]
        }
      ],
      "source": [
        "print(\"Integral: \", integral)"
      ]
    },
    {
      "cell_type": "code",
      "execution_count": null,
      "metadata": {
        "colab": {
          "base_uri": "https://localhost:8080/"
        },
        "id": "PgUXt_uA1ACC",
        "outputId": "861baeff-0f1d-47d8-c164-26136fb11f5b"
      },
      "outputs": [
        {
          "name": "stdout",
          "output_type": "stream",
          "text": [
            "Error asosiado:  0.028031428212001552\n"
          ]
        }
      ],
      "source": [
        "## Error trapecio simple\n",
        "\n",
        "d2fx = lambda x: -np.sin(x-1)\n",
        "err = 0\n",
        "\n",
        "for j in range(a,b,1):\n",
        "  h = xi[j+1]-xi[j]\n",
        "  err_trap = abs(areas-integral)\n",
        "  err = -(h**3/12)*d2fx(j)\n",
        "\n",
        "print (\"Error asosiado: \", err)\n"
      ]
    },
    {
      "cell_type": "code",
      "execution_count": null,
      "metadata": {
        "colab": {
          "base_uri": "https://localhost:8080/"
        },
        "id": "41x_KbY9BAu1",
        "outputId": "c94f541c-33df-4947-f055-577c6c456831"
      },
      "outputs": [
        {
          "name": "stdout",
          "output_type": "stream",
          "text": [
            "integral: 5310.217749140271\n"
          ]
        }
      ],
      "source": [
        "## Metodo Simpson 1/3\n",
        "h = (b-a)/n\n",
        "x2 = a\n",
        "\n",
        "area = 0\n",
        "for i in range(0,n,2):\n",
        "    delt = (h/3)*(fx(x2)+4*fx(x2+h)+fx(x2+2*h))\n",
        "    area = area + delt\n",
        "    x2 = x2 + 2*h\n",
        "\n",
        "print(\"integral:\", area)\n"
      ]
    },
    {
      "cell_type": "code",
      "execution_count": null,
      "metadata": {
        "colab": {
          "base_uri": "https://localhost:8080/"
        },
        "id": "o_mbbOvAIE6a",
        "outputId": "54813588-8034-487e-a2ce-c0c4b18102f0"
      },
      "outputs": [
        {
          "name": "stdout",
          "output_type": "stream",
          "text": [
            "5359.417253371944\n"
          ]
        }
      ],
      "source": [
        "# punto 8 METODO SIMPSON 3/8\n",
        "\n",
        "def fun(x):\n",
        "  return np.exp(x)*np.sin(x)\n",
        "\n",
        "a = 1\n",
        "b = 9\n",
        "n = 10\n",
        "h = (b-a)/n\n",
        "\n",
        "def simp38 (fun,a,b):\n",
        "   x1 = (2*a+b)/3\n",
        "   x2 = (a+2*b)/3\n",
        "   inte= (b-a)/8*((fun(a) + 3*fun(x1) + 3*fun(x2) + fun(b)))\n",
        "   return inte\n",
        "\n",
        "tot = 0\n",
        "\n",
        "for i in range(n):\n",
        "  b = a + h\n",
        "  deltt = simp38 (fun,a,b)\n",
        "  tot = tot + deltt\n",
        "  a = b\n",
        "print (tot)\n"
      ]
    },
    {
      "cell_type": "code",
      "execution_count": 166,
      "metadata": {
        "colab": {
          "base_uri": "https://localhost:8080/"
        },
        "id": "cUM9gbLX1KWY",
        "outputId": "48d74fd9-0cc2-4f7a-941f-10c3a982c827"
      },
      "outputs": [
        {
          "output_type": "stream",
          "name": "stdout",
          "text": [
            "Error:  0.058982400000000025\n"
          ]
        }
      ],
      "source": [
        "#Punto 9 error simpson 3/8\n",
        "\n",
        "\n",
        "def d4I (x,h):\n",
        "      return 24*x-36*h\n",
        "\n",
        "for i in range (a,b,n):\n",
        "  err = -(3/80)*(h**5*d4I(i,h))\n",
        "\n",
        "\n",
        "print (\"Error: \", err)"
      ]
    },
    {
      "cell_type": "code",
      "execution_count": null,
      "metadata": {
        "id": "zfvsNdIaOa7E"
      },
      "outputs": [],
      "source": []
    }
  ],
  "metadata": {
    "colab": {
      "collapsed_sections": [],
      "provenance": []
    },
    "kernelspec": {
      "display_name": "Python 3",
      "name": "python3"
    },
    "language_info": {
      "name": "python"
    }
  },
  "nbformat": 4,
  "nbformat_minor": 0
}