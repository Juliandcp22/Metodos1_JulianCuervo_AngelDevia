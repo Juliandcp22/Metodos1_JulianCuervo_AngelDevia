{
  "nbformat": 4,
  "nbformat_minor": 0,
  "metadata": {
    "colab": {
      "provenance": []
    },
    "kernelspec": {
      "name": "python3",
      "display_name": "Python 3"
    },
    "language_info": {
      "name": "python"
    }
  },
  "cells": [
    {
      "cell_type": "code",
      "execution_count": 1,
      "metadata": {
        "id": "F3X0pJGGyA4z"
      },
      "outputs": [],
      "source": [
        "import numpy as np\n",
        "import matplotlib.pyplot as plt"
      ]
    },
    {
      "cell_type": "code",
      "source": [
        "xi=-1\n",
        "xf=1\n",
        "n=4\n",
        "h=(xf-xi)/3\n",
        "X= np.linspace(xi,xf,n)"
      ],
      "metadata": {
        "id": "UjBIH1y4yStF"
      },
      "execution_count": 2,
      "outputs": []
    },
    {
      "cell_type": "code",
      "source": [
        "def Function(x):\n",
        "  return np.sqrt(1+np.exp(-x**(2)))"
      ],
      "metadata": {
        "id": "XvbrZ6DLySwP"
      },
      "execution_count": 3,
      "outputs": []
    },
    {
      "cell_type": "code",
      "source": [
        "def simpsontresoctavos(x,h,f):\n",
        "  return (3/8)*(h)*(f(x[0])+3*f(x[1])+3*f(x[2])+f(x[3]))\n",
        "simpsontresoctavos(X,h,Function)"
      ],
      "metadata": {
        "colab": {
          "base_uri": "https://localhost:8080/"
        },
        "id": "n2IZOadp2xPw",
        "outputId": "dc0ee3cc-eace-4553-ef37-49c5b1afbb49"
      },
      "execution_count": 4,
      "outputs": [
        {
          "output_type": "execute_result",
          "data": {
            "text/plain": [
              "2.649579329907684"
            ]
          },
          "metadata": {},
          "execution_count": 4
        }
      ]
    }
  ]
}