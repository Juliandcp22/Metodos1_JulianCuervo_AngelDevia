{
  "nbformat": 4,
  "nbformat_minor": 0,
  "metadata": {
    "colab": {
      "provenance": [],
      "collapsed_sections": []
    },
    "kernelspec": {
      "name": "python3",
      "display_name": "Python 3"
    },
    "language_info": {
      "name": "python"
    }
  },
  "cells": [
    {
      "cell_type": "code",
      "execution_count": 68,
      "metadata": {
        "id": "_9Z3ZK3R57mp"
      },
      "outputs": [],
      "source": [
        "import numpy as np\n",
        "import matplotlib.pyplot as plt\n",
        "import sympy as sym"
      ]
    },
    {
      "cell_type": "code",
      "source": [
        "def GetNewtonMethod(f,df,xn,itmax = 100000, precision=1e-12):\n",
        "    \n",
        "    error = 1.\n",
        "    it = 0\n",
        "    \n",
        "    while error > precision and it < itmax:\n",
        "        \n",
        "        try:\n",
        "            \n",
        "            xn1 = xn - f(xn)/df(xn)\n",
        "            \n",
        "           # error = np.abs( (xn1-xn) )\n",
        "            error = np.abs(f(xn)/df(xn))\n",
        "        \n",
        "        except ZeroDivisionError:\n",
        "            print(\"zero division\")\n",
        "            \n",
        "        xn  = xn1\n",
        "        it += 1\n",
        "    \n",
        "    #print('Raiz:',xn,it)\n",
        "    \n",
        "    if it == itmax:\n",
        "        return False\n",
        "    else:\n",
        "        return xn"
      ],
      "metadata": {
        "id": "oC3ykd2WBz9X"
      },
      "execution_count": 69,
      "outputs": []
    },
    {
      "cell_type": "code",
      "source": [
        "def GetAllRoots(f,df,x, tolerancia=9):\n",
        "    \n",
        "    Roots = np.array([])\n",
        "    \n",
        "    for i in x:\n",
        "        \n",
        "        root = GetNewtonMethod(f,df,i)\n",
        "          \n",
        "        if root != False:\n",
        "            \n",
        "            croot = np.round( root, tolerancia ) \n",
        "            \n",
        "            if croot not in Roots:\n",
        "                Roots = np.append( Roots, croot )\n",
        "                \n",
        "    # Ordenamos las raices\n",
        "    Roots.sort()\n",
        "    \n",
        "    return Roots\n"
      ],
      "metadata": {
        "id": "F6wCaSCSDMsT"
      },
      "execution_count": 70,
      "outputs": []
    },
    {
      "cell_type": "code",
      "source": [
        "def GetLegendre(n):\n",
        "    \n",
        "    x = sym.Symbol('x',Real=True)\n",
        "    y = sym.Symbol('y',Real=True)\n",
        "    \n",
        "    y = (x**2 - 1)**n\n",
        "    \n",
        "    p = sym.diff(y,x,n)/(2**n * np.math.factorial(n))\n",
        "    \n",
        "    return p"
      ],
      "metadata": {
        "id": "IhgyGU_EDM0y"
      },
      "execution_count": 71,
      "outputs": []
    },
    {
      "cell_type": "code",
      "source": [
        "def GetRootsPolynomial(n,xi,poly,dpoly):\n",
        "    \n",
        "    x = sym.Symbol('x',Real=True)\n",
        "    \n",
        "    pn = sym.lambdify([x],poly[n],'numpy')\n",
        "    dpn = sym.lambdify([x],dpoly[n],'numpy')\n",
        "    Roots = GetAllRoots(pn,dpn,xi,tolerancia=8)\n",
        "    \n",
        "    return Roots"
      ],
      "metadata": {
        "id": "6XgLfZwoDM4A"
      },
      "execution_count": 72,
      "outputs": []
    },
    {
      "cell_type": "code",
      "source": [
        "Legendre = []\n",
        "DerLegendre = []\n",
        "\n",
        "x = sym.Symbol('x',Real=True)\n",
        "n=20\n",
        "\n",
        "for i in range(n+1):\n",
        "    \n",
        "    poly = GetLegendre(i)\n",
        "    \n",
        "    Legendre.append(poly)\n",
        "    DerLegendre.append(sym.diff(poly,x,1))"
      ],
      "metadata": {
        "id": "27H9SZEcDU4D"
      },
      "execution_count": 81,
      "outputs": []
    },
    {
      "cell_type": "code",
      "source": [
        "xi = np.linspace(-1,1,100)\n",
        "\n",
        "Roots = GetRootsPolynomial(2,xi,Legendre,DerLegendre)\n",
        "Roots3 = GetRootsPolynomial(3,xi,Legendre,DerLegendre)\n",
        "Roots"
      ],
      "metadata": {
        "colab": {
          "base_uri": "https://localhost:8080/"
        },
        "id": "lYTFbqdxDU1q",
        "outputId": "dd26417f-5864-4b2e-8014-bbd81b3c1faf"
      },
      "execution_count": 100,
      "outputs": [
        {
          "output_type": "execute_result",
          "data": {
            "text/plain": [
              "array([-0.57735027,  0.57735027])"
            ]
          },
          "metadata": {},
          "execution_count": 100
        }
      ]
    },
    {
      "cell_type": "code",
      "source": [
        "def GetWeights(Roots,Dpoly):\n",
        "    \n",
        "    Weights = []\n",
        "    x = sym.Symbol('x',Real=True)\n",
        "    dpn = sym.lambdify([x],Dpoly[n],'numpy')\n",
        "    \n",
        "    for r in Roots:\n",
        "        \n",
        "        Weights.append( 2/(( 1- r**2 )*dpn(r)**2) )\n",
        "        \n",
        "    return Weights"
      ],
      "metadata": {
        "id": "fB9FCS7IF1tb"
      },
      "execution_count": 83,
      "outputs": []
    },
    {
      "cell_type": "code",
      "source": [
        "Weights = GetWeights(Roots,DerLegendre)\n",
        "Weights3 = GetWeights(Roots3,DerLegendre)"
      ],
      "metadata": {
        "id": "QnVyuzm2DU7o"
      },
      "execution_count": 102,
      "outputs": []
    },
    {
      "cell_type": "code",
      "source": [
        "a = 1\n",
        "b = 2\n",
        "f = lambda x : 1/(x**2)"
      ],
      "metadata": {
        "id": "O4o4e-DxGgta"
      },
      "execution_count": 103,
      "outputs": []
    },
    {
      "cell_type": "code",
      "source": [
        "t = 0.5*((b-a)*Roots + a + b)\n",
        "t3 = 0.5*((b-a)*Roots3 + a + b)"
      ],
      "metadata": {
        "id": "sSae45E_Gvdw"
      },
      "execution_count": 104,
      "outputs": []
    },
    {
      "cell_type": "code",
      "source": [
        "Integral2 = 0.5*(b-a)*np.sum( Weights*f(t) )\n",
        "Integral3= 0.5*(b-a)*np.sum( Weights3*f(t3) )\n",
        "Integral2,Integral3"
      ],
      "metadata": {
        "colab": {
          "base_uri": "https://localhost:8080/"
        },
        "id": "6c55PRDWGvhK",
        "outputId": "9afd7b78-f6b9-4202-850c-2e956905d70d"
      },
      "execution_count": 105,
      "outputs": [
        {
          "output_type": "execute_result",
          "data": {
            "text/plain": [
              "(0.4970414195778547, 0.5039052665061371)"
            ]
          },
          "metadata": {},
          "execution_count": 105
        }
      ]
    }
  ]
}