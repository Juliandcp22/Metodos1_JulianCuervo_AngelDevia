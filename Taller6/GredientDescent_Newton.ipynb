{
  "cells": [
    {
      "cell_type": "code",
      "execution_count": 1,
      "metadata": {
        "id": "TJPftMmfHcT7"
      },
      "outputs": [],
      "source": [
        "import numpy as np\n",
        "import matplotlib.pyplot as plt\n",
        "from IPython.display import clear_output\n",
        "import time"
      ]
    },
    {
      "cell_type": "code",
      "execution_count": 16,
      "metadata": {
        "id": "mFxoaovfHxCX"
      },
      "outputs": [],
      "source": [
        "G=(lambda x1,x2: np.log(x1**2+x2**2)-np.sin(x1*x2)-np.log(2)-np.log(np.pi), \\\n",
        "   lambda x1,x2: np.exp(x1-x2)+np.cos(x1*x2))"
      ]
    },
    {
      "cell_type": "code",
      "execution_count": 17,
      "metadata": {
        "id": "_5Ml9pdLLD-5"
      },
      "outputs": [],
      "source": [
        "def GetVectorF(G,r):\n",
        "    \n",
        "    dim = len(G)\n",
        "    \n",
        "    v = np.zeros(dim)\n",
        "    \n",
        "    for i in range(dim):\n",
        "        v[i] = G[i](r[0],r[1])\n",
        "        \n",
        "    return v"
      ]
    },
    {
      "cell_type": "code",
      "execution_count": 18,
      "metadata": {
        "id": "x0qCkItLLGXq"
      },
      "outputs": [],
      "source": [
        "def GetJacobian(G,r,h=1e-6):\n",
        "    \n",
        "    dim = len(G)\n",
        "    \n",
        "    J = np.zeros((dim,dim))\n",
        "    \n",
        "    for i in range(dim):\n",
        "        J[i,0] = (  G[i](r[0]+h,r[1]) - G[i](r[0]-h,r[1]) )/(2*h)\n",
        "        J[i,1] = (  G[i](r[0],r[1]+h) - G[i](r[0],r[1]-h) )/(2*h)\n",
        "        \n",
        "        \n",
        "    return J.T"
      ]
    },
    {
      "cell_type": "code",
      "execution_count": 20,
      "metadata": {
        "id": "_6RxffRnLGjW"
      },
      "outputs": [],
      "source": [
        "def GetMetric(G,r):\n",
        "    v = GetVectorF(G,r)\n",
        "    return 0.5*np.linalg.norm(v)**2\n"
      ]
    },
    {
      "cell_type": "code",
      "execution_count": 19,
      "metadata": {
        "id": "YVSY1jLVLSDj"
      },
      "outputs": [],
      "source": [
        "def GetFig(F,R,it):\n",
        "    \n",
        "    fig = plt.figure(figsize=(8,4))\n",
        "    \n",
        "    labels = ['X','Y']\n",
        "    \n",
        "    ax = fig.add_subplot(1,2,1)\n",
        "    ax1 = fig.add_subplot(1,2,2)\n",
        "\n",
        "    ax.set_title('Metric: %.20f' %(F[it]))\n",
        "\n",
        "    ax.plot(F[:it])\n",
        "    ax.set_xlabel('%.0f' %(it))\n",
        "    ax.set_yscale('log')\n",
        "    ax1.plot(R[:it],label=labels)\n",
        "    ax1.set_xlabel('%.0f' %(it))\n",
        "    ax1.legend(loc=0)\n",
        "    \n",
        "    plt.show()"
      ]
    },
    {
      "cell_type": "code",
      "execution_count": 21,
      "metadata": {
        "id": "iGuEA61vLqgD"
      },
      "outputs": [],
      "source": [
        "def GetSolve(G,r,lr=1e-3,epochs=int(1e5),error=1e-7):\n",
        "    \n",
        "    d = 1\n",
        "    it = 0\n",
        "    Vector_F = np.array([])\n",
        "    \n",
        "    R_vector = np.array(r)\n",
        "    \n",
        "    while d > error and it < epochs:\n",
        "        \n",
        "        CurrentF = GetMetric(G,r)\n",
        "        \n",
        "        J = GetJacobian(G,r)\n",
        "        \n",
        "        GVector = GetVectorF(G,r)\n",
        "        \n",
        "        #Machine Learning\n",
        "        r -= lr*np.dot(J,GVector) \n",
        "        \n",
        "        R_vector = np.vstack((R_vector,r))\n",
        "        \n",
        "        NewF = GetMetric(G,r)\n",
        "        \n",
        "        \n",
        "        Vector_F = np.append(Vector_F,NewF)\n",
        "        \n",
        "        d = np.abs( CurrentF - NewF )/NewF\n",
        "        \n",
        "        \n",
        "        if it%500 == 0:\n",
        "            \n",
        "            #print(it,d)\n",
        "            clear_output(wait=True)\n",
        "            GetFig(Vector_F,R_vector,it)\n",
        "            time.sleep(0.01)\n",
        "            \n",
        "        it += 1\n",
        "        \n",
        "    if d < error:\n",
        "        print(' Entrenamiento completo ', d, 'iteraciones', it)\n",
        "        \n",
        "    if it == epochs:\n",
        "        print(' Entrenamiento no completado ')\n",
        "        \n",
        "    return r,it,Vector_F,R_vector"
      ]
    },
    {
      "cell_type": "code",
      "source": [
        "xsol,it,F,R = GetSolve(G,[2,2],lr=1e-4)"
      ],
      "metadata": {
        "colab": {
          "base_uri": "https://localhost:8080/",
          "height": 312
        },
        "id": "rD4vLoC7toZY",
        "outputId": "d47a6902-d405-4b38-8ffc-e4e55738c82a"
      },
      "execution_count": 22,
      "outputs": [
        {
          "output_type": "display_data",
          "data": {
            "text/plain": [
              "<Figure size 576x288 with 2 Axes>"
            ],
            "image/png": "[encoded data removed]"
          },
          "metadata": {
            "needs_background": "light"
          }
        },
        {
          "output_type": "stream",
          "name": "stdout",
          "text": [
            " Entrenamiento no completado \n"
          ]
        }
      ]
    },
    {
      "cell_type": "code",
      "source": [
        "def NewtonRaphson(G,r,error=1e-10):\n",
        "    \n",
        "    it = 0\n",
        "    d = 1\n",
        "    Vector_d = np.array([])\n",
        "    \n",
        "    while d > error:\n",
        "        \n",
        "        it += 1\n",
        "        \n",
        "        rc = r\n",
        "        \n",
        "        F = GetVectorF(G,r)\n",
        "        J = GetJacobian(G,r)\n",
        "        InvJ = np.linalg.inv(J)\n",
        "        \n",
        "        r = rc - np.dot( InvJ, F )\n",
        "        \n",
        "        diff = r - rc\n",
        "        print(diff)\n",
        "        \n",
        "        d = np.linalg.norm(diff)\n",
        "        \n",
        "        Vector_d = np.append( Vector_d , d )\n",
        "        \n",
        "    return r,it,Vector_d"
      ],
      "metadata": {
        "id": "YnZELdrntwBB"
      },
      "execution_count": 23,
      "outputs": []
    },
    {
      "cell_type": "code",
      "source": [
        "r,it,distancias = NewtonRaphson(G,[2,2])\n",
        "print(r,it)\n"
      ],
      "metadata": {
        "colab": {
          "base_uri": "https://localhost:8080/"
        },
        "id": "-Ik2HUtYuiyP",
        "outputId": "6507ca22-fd43-4c2a-b63b-8c7b81e7dff0"
      },
      "execution_count": 25,
      "outputs": [
        {
          "output_type": "stream",
          "name": "stdout",
          "text": [
            "[-0.09899834 -0.3260053 ]\n",
            "[-0.06996901  0.07324917]\n",
            "[-0.03559881  0.00465102]\n",
            "[-0.01071605  0.01860121]\n",
            "[-0.00817261 -0.00475954]\n",
            "[-0.00098126  0.00842107]\n",
            "[-0.00268303 -0.00489845]\n",
            "[0.00062404 0.00503654]\n",
            "[-0.00126521 -0.00377184]\n",
            "[0.00071288 0.00336175]\n",
            "[-0.00075978 -0.00272138]\n",
            "[0.00055923 0.00232576]\n",
            "[-0.00050641 -0.00192779]\n",
            "[0.00040567 0.00162668]\n",
            "[-0.00034981 -0.00135821]\n",
            "[0.000288   0.00114147]\n",
            "[-0.0002444  -0.00095533]\n",
            "[0.00020313 0.00080179]\n",
            "[-0.00017137 -0.00067161]\n",
            "[0.00014297 0.00056338]\n",
            "[-0.00012031 -0.00047207]\n",
            "[0.00010056 0.0003959 ]\n",
            "[-8.45085896e-05 -3.31794712e-04]\n",
            "[7.07033705e-05 2.78223906e-04]\n",
            "[-5.93719572e-05 -2.33195759e-04]\n",
            "[4.97044352e-05 1.95529089e-04]\n",
            "[-4.17170449e-05 -1.63894956e-04]\n",
            "[3.49390041e-05 1.37414846e-04]\n",
            "[-2.93141655e-05 -1.15187862e-04]\n",
            "[2.45584184e-05 9.65737894e-05]\n",
            "[-2.05997792e-05 -8.09553081e-05]\n",
            "[1.72612813e-05 6.78714454e-05]\n",
            "[-1.44764466e-05 -5.68960625e-05]\n",
            "[1.21320377e-05 4.76997861e-05]\n",
            "[-1.01735228e-05 -3.99869137e-05]\n",
            "[8.52680161e-06 3.35233035e-05]\n",
            "[-7.14969854e-06 -2.81030018e-05]\n",
            "[5.99284072e-06 2.35601425e-05]\n",
            "[-5.02468675e-06 -1.97509022e-05]\n",
            "[4.21187254e-06 1.65580628e-05]\n",
            "[-3.53129246e-06 -1.38809997e-05]\n",
            "[2.96015756e-06 1.16370124e-05]\n",
            "[-2.48176580e-06 -9.75560611e-06]\n",
            "[2.08042669e-06 8.17850109e-06]\n",
            "[-1.74417315e-06 -6.85626444e-06]\n",
            "[1.46213874e-06 5.74785907e-06]\n",
            "[-1.22579993e-06 -4.81859823e-06]\n",
            "[1.02759920e-06 4.03960248e-06]\n",
            "[-8.61490360e-07 -3.38652098e-06]\n",
            "[7.22201231e-07 2.83903820e-06]\n",
            "[-6.05454960e-07 -2.38005368e-06]\n",
            "[5.07565623e-07 1.99528024e-06]\n",
            "[-4.25513824e-07 -1.67270626e-06]\n",
            "[3.56718661e-07 1.40228604e-06]\n",
            "[-2.99051370e-07 -1.17558105e-06]\n",
            "[2.50702818e-07 9.85528866e-07]\n",
            "[-2.10173581e-07 -8.26200485e-07]\n",
            "[1.76194533e-07 6.92631293e-07]\n",
            "[-1.47710237e-07 -5.80655170e-07]\n",
            "[1.23829901e-07 4.86782418e-07]\n",
            "[-1.03810950e-07 -4.08085475e-07]\n",
            "[8.70279060e-08 3.42111497e-07]\n",
            "[-7.29584853e-08 -2.86803183e-07]\n",
            "[6.11633810e-08 2.40436536e-07]\n",
            "[-5.12753342e-08 -2.01565775e-07]\n",
            "[4.29857385e-08 1.68979204e-07]\n",
            "[-3.60363859e-08 -1.41660774e-07]\n",
            "[3.02104555e-08 1.18758871e-07]\n",
            "[-2.53264301e-08 -9.95594365e-08]\n",
            "[2.12319622e-08 8.34639369e-08]\n",
            "[-1.77994568e-08 -6.99705431e-08]\n",
            "[1.49218606e-08 5.86585973e-08]\n",
            "[-1.25094881e-08 -4.91754184e-08]\n",
            "[1.04871098e-08 4.12253627e-08]\n",
            "[-8.79168915e-09 -3.45605684e-08]\n",
            "[7.37035899e-09 2.89732554e-08]\n",
            "[-6.17881390e-09 -2.42892266e-08]\n",
            "[5.17990095e-09 2.03624531e-08]\n",
            "[-4.34248082e-09 -1.70705097e-08]\n",
            "[3.64044328e-09 1.43107661e-08]\n",
            "[-3.05190295e-09 -1.19971828e-08]\n",
            "[2.55850985e-09 1.00576310e-08]\n",
            "[-2.14488272e-09 -8.43164139e-09]\n",
            "[1.79812520e-09 7.06852088e-09]\n",
            "[-1.50742707e-09 -5.92577210e-09]\n",
            "[1.26372535e-09 4.96776842e-09]\n",
            "[-1.05942233e-09 -4.16464263e-09]\n",
            "[8.88148444e-10 3.49135632e-09]\n",
            "[-7.44563966e-10 -2.92691826e-09]\n",
            "[6.24192253e-10 2.45373122e-09]\n",
            "[-5.23280752e-10 -2.05704298e-09]\n",
            "[4.38683312e-10 1.72448655e-09]\n",
            "[-3.67762487e-10 -1.44569356e-09]\n",
            "[3.08307380e-10 1.21197186e-09]\n",
            "[-2.58464139e-10 -1.01603548e-09]\n",
            "[2.16678897e-10 8.51775983e-10]\n",
            "[-1.81649140e-10 -7.14071913e-10]\n",
            "[1.52282409e-10 5.98629812e-10]\n",
            "[-1.27663213e-10 -5.01850783e-10]\n",
            "[1.07024167e-10 4.20717683e-10]\n",
            "[-8.97220076e-11 -3.52701424e-10]\n",
            "[7.52169438e-11 2.95681701e-10]\n",
            "[-6.30568930e-11 -2.47879717e-10]\n",
            "[5.28626032e-11 2.07805551e-10]\n",
            "[-4.43163284e-11 -1.74210202e-10]\n",
            "[3.71518372e-11 1.46046064e-10]\n",
            "[-3.11455306e-11 -1.22435173e-10]\n",
            "[2.61104471e-11 1.02641451e-10]\n",
            "[-2.18893792e-11 -8.60478355e-11]\n",
            "[1.77245385 1.77245385] 109\n"
          ]
        }
      ]
    },
    {
      "cell_type": "code",
      "source": [
        "plt.plot(distancias)\n"
      ],
      "metadata": {
        "colab": {
          "base_uri": "https://localhost:8080/",
          "height": 282
        },
        "id": "fiMBqIaJ1vNT",
        "outputId": "2f7031d5-95af-4cd8-f17c-5244a2e10a32"
      },
      "execution_count": 28,
      "outputs": [
        {
          "output_type": "execute_result",
          "data": {
            "text/plain": [
              "[<matplotlib.lines.Line2D at 0x7f4a1c22b350>]"
            ]
          },
          "metadata": {},
          "execution_count": 28
        },
        {
          "output_type": "display_data",
          "data": {
            "text/plain": [
              "<Figure size 432x288 with 1 Axes>"
            ],
            "image/png": "[encoded data removed]"
          },
          "metadata": {
            "needs_background": "light"
          }
        }
      ]
    },
    {
      "cell_type": "code",
      "execution_count": 43,
      "metadata": {
        "id": "7kILHA6rHxIh"
      },
      "outputs": [],
      "source": [
        "G1=(lambda x1,x2,x3: 6*x1-2*np.cos(x2*x3)-1., \\\n",
        "    lambda x1,x2,x3: 9*x2+np.sqrt(x1**2+np.sin(x3)+1.06)+0.9, \\\n",
        "    lambda x1,x2,x3: 60*x3+3*np.exp(-x1*x2)+10*np.pi-3.)\n"
      ]
    },
    {
      "cell_type": "code",
      "source": [
        "def GetVectorF1(G,r):\n",
        "    \n",
        "    dim = len(G)\n",
        "    \n",
        "    v = np.zeros(dim)\n",
        "    \n",
        "    for i in range(dim):\n",
        "        v[i] = G[i](r[0],r[1],r[2])\n",
        "        \n",
        "    return v"
      ],
      "metadata": {
        "id": "3gczjIFm2iRS"
      },
      "execution_count": 30,
      "outputs": []
    },
    {
      "cell_type": "code",
      "source": [
        "def GetJacobian1(G,r,h=1e-6):\n",
        "    \n",
        "    dim = len(G)\n",
        "    \n",
        "    J = np.zeros((dim,dim))\n",
        "    \n",
        "    for i in range(dim):\n",
        "        J[i,0] = (  G[i](r[0]+h,r[1],r[2]) - G[i](r[0]-h,r[1],r[2]) )/(2*h)\n",
        "        J[i,1] = (  G[i](r[0],r[1]+h,r[2]) - G[i](r[0],r[1]-h,r[2]) )/(2*h)\n",
        "        J[i,2] = (  G[i](r[0],r[1],r[2]+h) - G[i](r[0],r[1],r[2]-h) )/(2*h)\n",
        "        \n",
        "    return J.T"
      ],
      "metadata": {
        "id": "cZG_ICfK2k73"
      },
      "execution_count": 41,
      "outputs": []
    },
    {
      "cell_type": "code",
      "source": [
        "def GetMetric1(G,r):\n",
        "    v = GetVectorF1(G,r)\n",
        "    return 0.5*np.linalg.norm(v)**2\n"
      ],
      "metadata": {
        "id": "IGOXr_QY2s6f"
      },
      "execution_count": 45,
      "outputs": []
    },
    {
      "cell_type": "code",
      "source": [
        "def GetFig(F,R,it):\n",
        "    \n",
        "    fig = plt.figure(figsize=(8,4))\n",
        "    \n",
        "    labels = ['X','Y','Z']\n",
        "    \n",
        "    ax = fig.add_subplot(1,2,1)\n",
        "    ax1 = fig.add_subplot(1,2,2)\n",
        "\n",
        "    ax.set_title('Metric: %.20f' %(F[it]))\n",
        "\n",
        "    ax.plot(F[:it])\n",
        "    ax.set_xlabel('%.0f' %(it))\n",
        "    ax.set_yscale('log')\n",
        "    ax1.plot(R[:it],label=labels)\n",
        "    ax1.set_xlabel('%.0f' %(it))\n",
        "    ax1.legend(loc=0)\n",
        "    \n",
        "    plt.show()"
      ],
      "metadata": {
        "id": "iTIyjdhj2ymQ"
      },
      "execution_count": 34,
      "outputs": []
    },
    {
      "cell_type": "code",
      "source": [
        "def GetSolve1(G,r,lr=1e-3,epochs=int(1e5),error=1e-7):\n",
        "    \n",
        "    d = 1\n",
        "    it = 0\n",
        "    Vector_F = np.array([])\n",
        "    \n",
        "    R_vector = np.array(r)\n",
        "    \n",
        "    while d > error and it < epochs:\n",
        "        \n",
        "        CurrentF = GetMetric1(G,r)\n",
        "        \n",
        "        J = GetJacobian1(G,r)\n",
        "        \n",
        "        GVector = GetVectorF1(G,r)\n",
        "        \n",
        "        #Machine Learning\n",
        "        r -= lr*np.dot(J,GVector) \n",
        "        \n",
        "        R_vector = np.vstack((R_vector,r))\n",
        "        \n",
        "        NewF = GetMetric1(G,r)\n",
        "        \n",
        "        \n",
        "        Vector_F = np.append(Vector_F,NewF)\n",
        "        \n",
        "        d = np.abs( CurrentF - NewF )/NewF\n",
        "        \n",
        "        \n",
        "        if it%500 == 0:\n",
        "            \n",
        "            #print(it,d)\n",
        "            clear_output(wait=True)\n",
        "            GetFig(Vector_F,R_vector,it)\n",
        "            time.sleep(0.01)\n",
        "            \n",
        "        it += 1\n",
        "        \n",
        "    if d < error:\n",
        "        print(' Entrenamiento completo ', d, 'iteraciones', it)\n",
        "        \n",
        "    if it == epochs:\n",
        "        print(' Entrenamiento no completado ')\n",
        "        \n",
        "    return r,it,Vector_F,R_vector"
      ],
      "metadata": {
        "id": "fgJX_X8524an"
      },
      "execution_count": 49,
      "outputs": []
    },
    {
      "cell_type": "code",
      "source": [
        "xsol,it,F,R = GetSolve1(G1,[0,0,0],lr=1e-4)"
      ],
      "metadata": {
        "colab": {
          "base_uri": "https://localhost:8080/",
          "height": 312
        },
        "id": "YOaM4wEc3D9T",
        "outputId": "86482b0e-bcba-4930-a95d-388b06b7f188"
      },
      "execution_count": 50,
      "outputs": [
        {
          "output_type": "display_data",
          "data": {
            "text/plain": [
              "<Figure size 576x288 with 2 Axes>"
            ],
            "image/png": "[encoded data removed]"
          },
          "metadata": {
            "needs_background": "light"
          }
        },
        {
          "output_type": "stream",
          "name": "stdout",
          "text": [
            " Entrenamiento completo  0.0 iteraciones 8536\n"
          ]
        }
      ]
    },
    {
      "cell_type": "code",
      "source": [
        "def NewtonRaphson1(G,r,error=1e-10):\n",
        "    \n",
        "    it = 0\n",
        "    d = 1\n",
        "    Vector_d = np.array([])\n",
        "    \n",
        "    while d > error:\n",
        "        \n",
        "        it += 1\n",
        "        \n",
        "        rc = r\n",
        "        \n",
        "        F = GetVectorF1(G,r)\n",
        "        J = GetJacobian1(G,r)\n",
        "        InvJ = np.linalg.inv(J)\n",
        "        \n",
        "        r = rc - np.dot( InvJ, F )\n",
        "        \n",
        "        diff = r - rc\n",
        "        print(diff)\n",
        "        \n",
        "        d = np.linalg.norm(diff)\n",
        "        \n",
        "        Vector_d = np.append( Vector_d , d )\n",
        "        \n",
        "    return r,it,Vector_d"
      ],
      "metadata": {
        "id": "BlbEJvyH5Lv5"
      },
      "execution_count": 53,
      "outputs": []
    },
    {
      "cell_type": "code",
      "source": [
        "r1,it1,distancias1 = NewtonRaphson1(G1,[0,0,0])\n",
        "print(r1,it1)\n"
      ],
      "metadata": {
        "colab": {
          "base_uri": "https://localhost:8080/"
        },
        "id": "Og3bSKtX5TCu",
        "outputId": "e3e9ae26-2c8e-48a5-b714-ac8506413453"
      },
      "execution_count": 55,
      "outputs": [
        {
          "output_type": "stream",
          "name": "stdout",
          "text": [
            "[ 0.5        -0.21439589 -0.52186344]\n",
            "[-0.00238106  0.01288117 -0.00749826]\n",
            "[0.00024297 0.00205967 0.00047268]\n",
            "[ 2.87757327e-04 -1.13360672e-04  7.14204832e-05]\n",
            "[ 2.08603051e-07 -3.95328587e-05 -7.08199208e-06]\n",
            "[-5.19275201e-06  1.33730455e-06 -1.42170847e-06]\n",
            "[-9.77612319e-08  7.39309225e-07  1.02405968e-07]\n",
            "[ 9.21706162e-08 -1.08171067e-08  2.75706463e-08]\n",
            "[ 3.43583895e-09 -1.35697276e-08 -1.35376188e-09]\n",
            "[-1.60520347e-09 -4.97944741e-11 -5.23240118e-10]\n",
            "[-9.11919984e-11  2.44574361e-10  1.50240931e-11]\n",
            "[2.73883694e-11 5.32510147e-12 9.73710002e-12]\n",
            "[ 0.49814468 -0.1996059  -0.52882598] 12\n"
          ]
        }
      ]
    },
    {
      "cell_type": "code",
      "source": [
        "plt.plot(distancias1)"
      ],
      "metadata": {
        "colab": {
          "base_uri": "https://localhost:8080/",
          "height": 282
        },
        "id": "gFE9e5cS5qbl",
        "outputId": "481c9c9b-661b-4c5f-c354-9d33a16b13d5"
      },
      "execution_count": 56,
      "outputs": [
        {
          "output_type": "execute_result",
          "data": {
            "text/plain": [
              "[<matplotlib.lines.Line2D at 0x7f4a1c35a8d0>]"
            ]
          },
          "metadata": {},
          "execution_count": 56
        },
        {
          "output_type": "display_data",
          "data": {
            "text/plain": [
              "<Figure size 432x288 with 1 Axes>"
            ],
            "image/png": "[encoded data removed]"
          },
          "metadata": {
            "needs_background": "light"
          }
        }
      ]
    }
  ],
  "metadata": {
    "colab": {
      "provenance": []
    },
    "kernelspec": {
      "display_name": "Python 3",
      "name": "python3"
    },
    "language_info": {
      "name": "python"
    }
  },
  "nbformat": 4,
  "nbformat_minor": 0
}