{
  "nbformat": 4,
  "nbformat_minor": 0,
  "metadata": {
    "colab": {
      "provenance": []
    },
    "kernelspec": {
      "name": "python3",
      "display_name": "Python 3"
    },
    "language_info": {
      "name": "python"
    }
  },
  "cells": [
    {
      "cell_type": "code",
      "source": [
        "import numpy as np"
      ],
      "metadata": {
        "id": "V26mi36T63S2"
      },
      "execution_count": 1,
      "outputs": []
    },
    {
      "cell_type": "code",
      "source": [
        "def jacobi_sols (A,c,tol=1e-3):\n",
        "  diago = np.diag(np.diag(A))\n",
        "  LU= A-diago\n",
        "  xi= np.zeros(len(A),dtype=float)\n",
        "  x=xi\n",
        "  for i in range (len(A)):\n",
        "    inv=np.linalg.inv(diago)\n",
        "    xtemp=x\n",
        "    x=np.dot(inv,np.dot(-LU,x))+np.dot(inv,c)\n",
        "    print(\"Iteracion:\",i+1,\"; x= \",x)\n",
        "    if np.linalg.norm(x-xtemp)<tol:\n",
        "      return x\n",
        "  \n",
        "Ac = np.array([[4,-1,-1,0],\n",
        "              [-1,4,0,-1],\n",
        "              [-1,0,4,-1],\n",
        "              [0,-1,-1,4]], dtype=float)\n",
        "\n",
        "\n",
        "B = np.array([150,80,160,90], dtype=float)\n",
        "\n",
        "M = np.array([[3,-1,-1],[-1.,3.,1.],[2,1,4]])\n",
        "b = np.array([1.,3.,7.])\n",
        "\n",
        "print(\"Ejemplo 1:\")\n",
        "jacobi_sols (M,b)\n",
        "\n",
        "print(\"Ejemplo 2:\")\n",
        "jacobi_sols (Ac,B)"
      ],
      "metadata": {
        "colab": {
          "base_uri": "https://localhost:8080/"
        },
        "id": "ZU1AvS3j6zWl",
        "outputId": "cc61191a-4675-4722-f4c2-387f23b57a6b"
      },
      "execution_count": 19,
      "outputs": [
        {
          "output_type": "stream",
          "name": "stdout",
          "text": [
            "Ejemplo 1:\n",
            "Iteracion: 1 ; x=  [0.33333333 1.         1.75      ]\n",
            "Iteracion: 2 ; x=  [1.25       0.52777778 1.33333333]\n",
            "Iteracion: 3 ; x=  [0.9537037  0.97222222 0.99305556]\n",
            "Ejemplo 2:\n",
            "Iteracion: 1 ; x=  [37.5 20.  40.  22.5]\n",
            "Iteracion: 2 ; x=  [52.5 35.  55.  37.5]\n",
            "Iteracion: 3 ; x=  [60.  42.5 62.5 45. ]\n",
            "Iteracion: 4 ; x=  [63.75 46.25 66.25 48.75]\n"
          ]
        }
      ]
    },
    {
      "cell_type": "code",
      "source": [],
      "metadata": {
        "id": "CoR8rr44-FbO"
      },
      "execution_count": null,
      "outputs": []
    }
  ]
}