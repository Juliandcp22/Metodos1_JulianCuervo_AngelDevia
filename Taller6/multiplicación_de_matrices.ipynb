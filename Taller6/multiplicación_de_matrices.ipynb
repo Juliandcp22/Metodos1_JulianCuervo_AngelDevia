{
  "nbformat": 4,
  "nbformat_minor": 0,
  "metadata": {
    "colab": {
      "provenance": []
    },
    "kernelspec": {
      "name": "python3",
      "display_name": "Python 3"
    },
    "language_info": {
      "name": "python"
    }
  },
  "cells": [
    {
      "cell_type": "code",
      "execution_count": null,
      "metadata": {
        "id": "0lz6YXMYlPoP"
      },
      "outputs": [],
      "source": [
        "import numpy as np"
      ]
    },
    {
      "cell_type": "code",
      "source": [
        "def multipli_mat(A,B):\n",
        "  \n",
        "    C = np.zeros((3,3),dtype = int)\n",
        "   \n",
        "    for i in range(len(B)): \n",
        "        for j in range(len(B)):\n",
        "            for k in range(len(B)):\n",
        "              C[i, j] += A[i, k] * B[k, j]\n",
        "    return C\n",
        "\n"
      ],
      "metadata": {
        "colab": {
          "base_uri": "https://localhost:8080/"
        },
        "id": "m-_4Jy44lhfS",
        "outputId": "2acaf982-5453-4df0-c008-86b8a51bfe50"
      },
      "execution_count": null,
      "outputs": [
        {
          "output_type": "execute_result",
          "data": {
            "text/plain": [
              "3"
            ]
          },
          "metadata": {},
          "execution_count": 21
        }
      ]
    },
    {
      "cell_type": "code",
      "source": [
        "x = np.array([[1, 0,0],\n",
        "             [5, 1,0],\n",
        "             [-2,3,1]]) \n",
        "\n",
        "y = np.array([[4,-2,1],\n",
        "             [0, 3,7],\n",
        "             [0,0, 2]])\n",
        "\n",
        "multipli_mat(x,y)"
      ],
      "metadata": {
        "colab": {
          "base_uri": "https://localhost:8080/"
        },
        "id": "ANuDZmSNq8Q1",
        "outputId": "1be90691-12de-400d-c099-4c3f9e7b0d73"
      },
      "execution_count": null,
      "outputs": [
        {
          "output_type": "execute_result",
          "data": {
            "text/plain": [
              "array([[ 4, -2,  1],\n",
              "       [20, -7, 12],\n",
              "       [-8, 13, 21]])"
            ]
          },
          "metadata": {},
          "execution_count": 22
        }
      ]
    },
    {
      "cell_type": "code",
      "source": [],
      "metadata": {
        "id": "zBkAF23jrmwk"
      },
      "execution_count": null,
      "outputs": []
    }
  ]
}