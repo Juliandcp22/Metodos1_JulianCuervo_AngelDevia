{
  "nbformat": 4,
  "nbformat_minor": 0,
  "metadata": {
    "colab": {
      "provenance": [],
      "collapsed_sections": []
    },
    "kernelspec": {
      "name": "python3",
      "display_name": "Python 3"
    },
    "language_info": {
      "name": "python"
    }
  },
  "cells": [
    {
      "cell_type": "markdown",
      "source": [
        "Punto 1: El error asosiado a la estimación de raíces al cuando se usan el metodo de Newton-Raphson es de truncamiento. Debido a que se transforma un proceso infinito a uno finito, es decir, no se aproxima de manera indefinida sino que en algún momento las iteraciones se detienen."
      ],
      "metadata": {
        "id": "GSAVIpp0oy_N"
      }
    },
    {
      "cell_type": "code",
      "source": [
        "import numpy as np"
      ],
      "metadata": {
        "id": "mI6t4yFq58q1"
      },
      "execution_count": 1,
      "outputs": []
    },
    {
      "cell_type": "code",
      "execution_count": 2,
      "metadata": {
        "id": "iZE8Lisu5TB_"
      },
      "outputs": [],
      "source": [
        "def fun(x):\n",
        "  f = 3*x**5 + 5*x**4 - x**3\n",
        "  return f\n",
        "\n",
        "def dfun(x):\n",
        "  df = 15*x**4 + 20*x**3 - 3*x**2\n",
        "  if df == 0:\n",
        "    exit()\n",
        "  return df\n",
        "\n"
      ]
    },
    {
      "cell_type": "code",
      "source": [
        "a = -2\n",
        "b = -1.0\n",
        "fun_a = fun(a)\n",
        "fun_b = fun(b)\n",
        "\n",
        "err_tol = 1.0\n",
        "err_rel = 1000\n",
        "Bolzano = (a+b)/2.0\n",
        "k = 1\n",
        "raicc=[]\n",
        "\n",
        "\n",
        "\n",
        "\n",
        "while(err_rel > err_tol):\n",
        "\n",
        "       fsol = fun(Bolzano)\n",
        "\n",
        "       if np.sign(fun_a) != np.sign(fsol):\n",
        "          b = Bolzano\n",
        "       else:   \n",
        "          a = Bolzano\n",
        "\n",
        "       fun_a = fsol\n",
        "\n",
        "       x_m = Bolzano\n",
        "\n",
        "       Bolzano2 = (a+b)/2.0\n",
        "\n",
        "       k = k+1\n",
        "\n",
        "       err_rel = abs((Bolzano - x_m) / Bolzano) * 100\n",
        "    \n",
        "\n",
        "if -1.5 <= Bolzano and -1000 >= Bolzano:\n",
        " x_n = Bolzano\n",
        "elif 0.5 < Bolzano and 1000 > Bolzano:\n",
        "  x_n = Bolzano \n",
        "elif -1.4 < Bolzano and 0.4 > Bolzano:\n",
        "   x_n = Bolzano\n",
        "\n",
        "tol = 0.0000001\n",
        "err_rel = 100\n",
        "x_n = Bolzano\n",
        "\n",
        "fx_n = fun(x_n)\n",
        "df_n = dfun(x_n)\n",
        "sol = x_n - fx_n/ df_n\n",
        "\n",
        "while(err_rel >= tol):\n",
        "      x_n = sol\n",
        "      fx_n = fun(x_n)\n",
        "      df_n = dfun(x_n)\n",
        "      sol = x_n - fx_n/ df_n\n",
        "      err_rel = abs((sol - x_n)/sol)*100\n",
        "\n",
        "print(\"raiz 1:\",sol)\n",
        "raicc.append(sol)\n",
        "#raicc\n"
      ],
      "metadata": {
        "colab": {
          "base_uri": "https://localhost:8080/"
        },
        "id": "jMSeFy_hQyCJ",
        "outputId": "0296ffa9-3572-40bf-cb43-e5125050c2a7"
      },
      "execution_count": 3,
      "outputs": [
        {
          "output_type": "stream",
          "name": "stdout",
          "text": [
            "raiz 1: -1.8471270883830369\n"
          ]
        }
      ]
    },
    {
      "cell_type": "code",
      "source": [
        "c = 0.1\n",
        "d = 0.5\n",
        "fun_c = fun(c)\n",
        "fun_d = fun(d)\n",
        "\n",
        "err_tol = 1.0\n",
        "err_rel = 1000\n",
        "Bolzano = (c+d)/2.0\n",
        "k = 1\n",
        "\n",
        "while(err_rel > err_tol):\n",
        "\n",
        "       fsol = fun(Bolzano)\n",
        "\n",
        "       if np.sign(fun_c) != np.sign(fsol):\n",
        "          d = Bolzano\n",
        "       else:   \n",
        "          c = Bolzano\n",
        "\n",
        "       fun_c = fsol\n",
        "\n",
        "       x_m = Bolzano\n",
        "\n",
        "       Bolzano2 = (c+d)/2.0\n",
        "\n",
        "       k = k+1\n",
        "\n",
        "       err_rel = abs((Bolzano - x_m) / Bolzano) * 100\n",
        "    \n",
        "\n",
        "\n",
        "\n",
        "if -1.5 < Bolzano and -1000 > Bolzano:\n",
        " x_n = Bolzano\n",
        "elif 0.5 < Bolzano and 1000 > Bolzano:\n",
        "  x_n = Bolzano \n",
        "elif -1.4 < Bolzano and 0.4 > Bolzano:\n",
        "   x_n = Bolzano\n",
        "   \n",
        "tol = 0.0000001\n",
        "err_rel = 100\n",
        "\n",
        "\n",
        "fx_n = fun(x_n)\n",
        "df_n = dfun(x_n)\n",
        "sol = x_n - fx_n/ df_n\n",
        "\n",
        "while(err_rel >= tol):\n",
        "      x_n = sol\n",
        "      fx_n = fun(x_n)\n",
        "      df_n = dfun(x_n)\n",
        "      sol = x_n - fx_n/ df_n\n",
        "      err_rel = abs((sol - x_n)/sol)*100\n",
        "\n",
        "print(\"raiz 2:\",sol)\n",
        "raicc.append(sol)\n",
        "#raicc"
      ],
      "metadata": {
        "colab": {
          "base_uri": "https://localhost:8080/"
        },
        "id": "SHEJd3U-ozIe",
        "outputId": "e1d44b09-d6d5-486b-a5fe-657123165e1b"
      },
      "execution_count": 4,
      "outputs": [
        {
          "output_type": "stream",
          "name": "stdout",
          "text": [
            "raiz 2: 0.18046042171637\n"
          ]
        }
      ]
    },
    {
      "cell_type": "code",
      "source": [
        "e = -0.008\n",
        "f = 0.005\n",
        "fun_e = fun(e)\n",
        "fun_f = fun(f)\n",
        "\n",
        "err_tol = 1.0\n",
        "err_rel = 1000\n",
        "Bolzano = (e+f)/2.0\n",
        "k = 1\n",
        "\n",
        "\n",
        "while(err_rel > err_tol):\n",
        "\n",
        "       fsol = fun(Bolzano)\n",
        "\n",
        "       if np.sign(fun_e) != np.sign(fsol):\n",
        "          f = Bolzano\n",
        "       else:   \n",
        "          e = Bolzano\n",
        "\n",
        "       fun_e = fsol\n",
        "\n",
        "       x_m = Bolzano\n",
        "\n",
        "       Bolzano2 = (e+f)/2.0\n",
        "\n",
        "       k = k+1\n",
        "\n",
        "       err_rel = abs((Bolzano - x_m) / Bolzano) * 100\n",
        "\n",
        "if -1.5 < Bolzano and -1000 > Bolzano:\n",
        " x_n = Bolzano\n",
        "elif 0.5 < Bolzano and 1000 > Bolzano:\n",
        "  x_n = Bolzano \n",
        "elif -1.4 < Bolzano and 0.4 > Bolzano:\n",
        "   x_n = Bolzano\n",
        "\n",
        "tol = 0.00001\n",
        "err_rel = 100\n",
        "\n",
        "\n",
        "fx_n = fun(x_n)\n",
        "df_n = dfun(x_n)\n",
        "sol = x_n - fx_n/ df_n\n",
        "\n",
        "while(err_rel >= tol):\n",
        "      x_n = sol\n",
        "      fx_n = fun(x_n)\n",
        "      df_n = dfun(x_n)\n",
        "      sol = x_n - fx_n/ df_n\n",
        "      err_rel = abs((sol - x_n)/sol)*100\n",
        "\n",
        "\n",
        "print(\"raiz 3:\",sol)\n",
        "raicc.append(sol)\n",
        "\n",
        "print (\"Todas las raíces:\",raicc)"
      ],
      "metadata": {
        "colab": {
          "base_uri": "https://localhost:8080/"
        },
        "id": "CCBpeWZ8uAVK",
        "outputId": "c74fb24e-6318-4635-b613-01bdc9f8ea5e"
      },
      "execution_count": 5,
      "outputs": [
        {
          "output_type": "stream",
          "name": "stdout",
          "text": [
            "raiz 3: -1.1966428531151029e-108\n",
            "Todas las raíces: [-1.8471270883830369, 0.18046042171637, -1.1966428531151029e-108]\n"
          ]
        }
      ]
    },
    {
      "cell_type": "code",
      "source": [],
      "metadata": {
        "id": "0XH7m754ZqZm"
      },
      "execution_count": null,
      "outputs": []
    }
  ]
}