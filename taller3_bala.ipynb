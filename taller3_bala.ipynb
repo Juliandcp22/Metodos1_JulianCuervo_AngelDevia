{
  "nbformat": 4,
  "nbformat_minor": 0,
  "metadata": {
    "colab": {
      "provenance": [],
      "collapsed_sections": []
    },
    "kernelspec": {
      "name": "python3",
      "display_name": "Python 3"
    },
    "language_info": {
      "name": "python"
    }
  },
  "cells": [
    {
      "cell_type": "code",
      "execution_count": 1,
      "metadata": {
        "id": "GjMUef8hUC3l"
      },
      "outputs": [],
      "source": [
        "import pandas as pd\n",
        "import numpy as np\n",
        "import matplotlib.pyplot as plt\n",
        "import sympy as sym\n",
        "\n"
      ]
    },
    {
      "cell_type": "code",
      "source": [
        "! wget https://raw.githubusercontent.com/asegura4488/Database/main/MetodosComputacionalesReforma/Parabolico.csv\n",
        "Zelda = pd.read_csv('Parabolico.csv')\n",
        "Zelda"
      ],
      "metadata": {
        "colab": {
          "base_uri": "https://localhost:8080/",
          "height": 334
        },
        "id": "PLgJpe7eVeCO",
        "outputId": "1bc966fb-c6e2-4ef2-a8df-f7ee985c3a40"
      },
      "execution_count": 2,
      "outputs": [
        {
          "output_type": "stream",
          "name": "stdout",
          "text": [
            "--2022-09-10 23:57:27--  https://raw.githubusercontent.com/asegura4488/Database/main/MetodosComputacionalesReforma/Parabolico.csv\n",
            "Resolving raw.githubusercontent.com (raw.githubusercontent.com)... 185.199.108.133, 185.199.109.133, 185.199.110.133, ...\n",
            "Connecting to raw.githubusercontent.com (raw.githubusercontent.com)|185.199.108.133|:443... connected.\n",
            "HTTP request sent, awaiting response... 200 OK\n",
            "Length: 73 [text/plain]\n",
            "Saving to: ‘Parabolico.csv’\n",
            "\n",
            "Parabolico.csv      100%[===================>]      73  --.-KB/s    in 0s      \n",
            "\n",
            "2022-09-10 23:57:27 (2.91 MB/s) - ‘Parabolico.csv’ saved [73/73]\n",
            "\n"
          ]
        },
        {
          "output_type": "execute_result",
          "data": {
            "text/plain": [
              "     X         Y\n",
              "0  1.4  0.400795\n",
              "1  3.5  0.594128\n",
              "2  5.6  0.298028"
            ],
            "text/html": [
              "\n",
              "  <div id=\"df-3c69d4a2-0d58-4cca-801e-386602c86f6e\">\n",
              "    <div class=\"colab-df-container\">\n",
              "      <div>\n",
              "<style scoped>\n",
              "    .dataframe tbody tr th:only-of-type {\n",
              "        vertical-align: middle;\n",
              "    }\n",
              "\n",
              "    .dataframe tbody tr th {\n",
              "        vertical-align: top;\n",
              "    }\n",
              "\n",
              "    .dataframe thead th {\n",
              "        text-align: right;\n",
              "    }\n",
              "</style>\n",
              "<table border=\"1\" class=\"dataframe\">\n",
              "  <thead>\n",
              "    <tr style=\"text-align: right;\">\n",
              "      <th></th>\n",
              "      <th>X</th>\n",
              "      <th>Y</th>\n",
              "    </tr>\n",
              "  </thead>\n",
              "  <tbody>\n",
              "    <tr>\n",
              "      <th>0</th>\n",
              "      <td>1.4</td>\n",
              "      <td>0.400795</td>\n",
              "    </tr>\n",
              "    <tr>\n",
              "      <th>1</th>\n",
              "      <td>3.5</td>\n",
              "      <td>0.594128</td>\n",
              "    </tr>\n",
              "    <tr>\n",
              "      <th>2</th>\n",
              "      <td>5.6</td>\n",
              "      <td>0.298028</td>\n",
              "    </tr>\n",
              "  </tbody>\n",
              "</table>\n",
              "</div>\n",
              "      <button class=\"colab-df-convert\" onclick=\"convertToInteractive('df-3c69d4a2-0d58-4cca-801e-386602c86f6e')\"\n",
              "              title=\"Convert this dataframe to an interactive table.\"\n",
              "              style=\"display:none;\">\n",
              "        \n",
              "  <svg xmlns=\"http://www.w3.org/2000/svg\" height=\"24px\"viewBox=\"0 0 24 24\"\n",
              "       width=\"24px\">\n",
              "    <path d=\"M0 0h24v24H0V0z\" fill=\"none\"/>\n",
              "    <path d=\"M18.56 5.44l.94 2.06.94-2.06 2.06-.94-2.06-.94-.94-2.06-.94 2.06-2.06.94zm-11 1L8.5 8.5l.94-2.06 2.06-.94-2.06-.94L8.5 2.5l-.94 2.06-2.06.94zm10 10l.94 2.06.94-2.06 2.06-.94-2.06-.94-.94-2.06-.94 2.06-2.06.94z\"/><path d=\"M17.41 7.96l-1.37-1.37c-.4-.4-.92-.59-1.43-.59-.52 0-1.04.2-1.43.59L10.3 9.45l-7.72 7.72c-.78.78-.78 2.05 0 2.83L4 21.41c.39.39.9.59 1.41.59.51 0 1.02-.2 1.41-.59l7.78-7.78 2.81-2.81c.8-.78.8-2.07 0-2.86zM5.41 20L4 18.59l7.72-7.72 1.47 1.35L5.41 20z\"/>\n",
              "  </svg>\n",
              "      </button>\n",
              "      \n",
              "  <style>\n",
              "    .colab-df-container {\n",
              "      display:flex;\n",
              "      flex-wrap:wrap;\n",
              "      gap: 12px;\n",
              "    }\n",
              "\n",
              "    .colab-df-convert {\n",
              "      background-color: #E8F0FE;\n",
              "      border: none;\n",
              "      border-radius: 50%;\n",
              "      cursor: pointer;\n",
              "      display: none;\n",
              "      fill: #1967D2;\n",
              "      height: 32px;\n",
              "      padding: 0 0 0 0;\n",
              "      width: 32px;\n",
              "    }\n",
              "\n",
              "    .colab-df-convert:hover {\n",
              "      background-color: #E2EBFA;\n",
              "      box-shadow: 0px 1px 2px rgba(60, 64, 67, 0.3), 0px 1px 3px 1px rgba(60, 64, 67, 0.15);\n",
              "      fill: #174EA6;\n",
              "    }\n",
              "\n",
              "    [theme=dark] .colab-df-convert {\n",
              "      background-color: #3B4455;\n",
              "      fill: #D2E3FC;\n",
              "    }\n",
              "\n",
              "    [theme=dark] .colab-df-convert:hover {\n",
              "      background-color: #434B5C;\n",
              "      box-shadow: 0px 1px 3px 1px rgba(0, 0, 0, 0.15);\n",
              "      filter: drop-shadow(0px 1px 2px rgba(0, 0, 0, 0.3));\n",
              "      fill: #FFFFFF;\n",
              "    }\n",
              "  </style>\n",
              "\n",
              "      <script>\n",
              "        const buttonEl =\n",
              "          document.querySelector('#df-3c69d4a2-0d58-4cca-801e-386602c86f6e button.colab-df-convert');\n",
              "        buttonEl.style.display =\n",
              "          google.colab.kernel.accessAllowed ? 'block' : 'none';\n",
              "\n",
              "        async function convertToInteractive(key) {\n",
              "          const element = document.querySelector('#df-3c69d4a2-0d58-4cca-801e-386602c86f6e');\n",
              "          const dataTable =\n",
              "            await google.colab.kernel.invokeFunction('convertToInteractive',\n",
              "                                                     [key], {});\n",
              "          if (!dataTable) return;\n",
              "\n",
              "          const docLinkHtml = 'Like what you see? Visit the ' +\n",
              "            '<a target=\"_blank\" href=https://colab.research.google.com/notebooks/data_table.ipynb>data table notebook</a>'\n",
              "            + ' to learn more about interactive tables.';\n",
              "          element.innerHTML = '';\n",
              "          dataTable['output_type'] = 'display_data';\n",
              "          await google.colab.output.renderOutput(dataTable, element);\n",
              "          const docLink = document.createElement('div');\n",
              "          docLink.innerHTML = docLinkHtml;\n",
              "          element.appendChild(docLink);\n",
              "        }\n",
              "      </script>\n",
              "    </div>\n",
              "  </div>\n",
              "  "
            ]
          },
          "metadata": {},
          "execution_count": 2
        }
      ]
    },
    {
      "cell_type": "code",
      "source": [
        "X = np.float64(Zelda['X'])\n",
        "Y = np.float64(Zelda['Y'])\n",
        "\n",
        "X[1]"
      ],
      "metadata": {
        "colab": {
          "base_uri": "https://localhost:8080/"
        },
        "id": "4D40NVH9da01",
        "outputId": "e3aaead0-e29f-4292-c0b1-b4a6fe73a3c5"
      },
      "execution_count": 3,
      "outputs": [
        {
          "output_type": "execute_result",
          "data": {
            "text/plain": [
              "3.5"
            ]
          },
          "metadata": {},
          "execution_count": 3
        }
      ]
    },
    {
      "cell_type": "code",
      "source": [
        "n = len(X)\n",
        "x = sym.Symbol('x')\n",
        "poly=0\n",
        "\n",
        "\n",
        "for i in range (0,n,1):\n",
        "    nume=1\n",
        "    deno=1 \n",
        "    for j in range (0,n,1):\n",
        "       if (i != j):\n",
        "          nume = nume*(x-X[j])\n",
        "          deno = deno*(X[i]-X[j])\n",
        "\n",
        "       resul = (nume/deno)*Y[i]\n",
        "    poly = poly + resul  \n",
        "polisim = sym.expand(poly)\n",
        "\n",
        "print(\"Polinimio:\", poly)\n",
        "print(\"Simplificación:\", polisim)\n"
      ],
      "metadata": {
        "colab": {
          "base_uri": "https://localhost:8080/"
        },
        "id": "U8xvv34_lIXr",
        "outputId": "ca7c0547-b8b1-4aed-f4f3-2d6b2215310e"
      },
      "execution_count": 4,
      "outputs": [
        {
          "output_type": "stream",
          "name": "stdout",
          "text": [
            "Polinimio: 0.0454416658936478*(x - 5.6)*(x - 3.5) - 0.134722925734643*(x - 5.6)*(x - 1.4) + 0.0337900176008369*(x - 3.5)*(x - 1.4)\n",
            "Simplificación: -0.0554912422401579*x**2 + 0.363970234266202*x + 2.22044604925031e-16\n"
          ]
        }
      ]
    },
    {
      "cell_type": "code",
      "source": [
        "k = 100\n",
        "a = np.min(X)\n",
        "b = np.max(X)\n",
        "\n",
        "pol_y= sym.lambdify(x,poly)\n",
        "pol_X = np.linspace(a,b,k)\n",
        "\n",
        "pfi = pol_y(pol_X)\n",
        "\n",
        "plt.plot(X,Y,'o')\n",
        "plt.plot(pol_X, pfi)\n",
        "plt.show()\n",
        "\n",
        "\n"
      ],
      "metadata": {
        "colab": {
          "base_uri": "https://localhost:8080/",
          "height": 265
        },
        "id": "3H3Yi6rufeZB",
        "outputId": "15730a31-413b-4bd3-c9e1-9b90356ecb8c"
      },
      "execution_count": 5,
      "outputs": [
        {
          "output_type": "display_data",
          "data": {
            "text/plain": [
              "<Figure size 432x288 with 1 Axes>"
            ],
            "image/png": "[encoded data removed]"
          },
          "metadata": {
            "needs_background": "light"
          }
        }
      ]
    },
    {
      "cell_type": "code",
      "source": [
        "from sympy.interactive.session import V\n",
        "from mpmath import cot\n",
        "from scipy.misc import derivative\n",
        "\n",
        "c = np.min(Y)\n",
        "d = np.max(Y)\n",
        "\n",
        "\n",
        "\n",
        "t = np.linspace(c,d,3)\n",
        "g = -9.8\n",
        "s=10\n",
        "\n",
        "\n",
        "   \n",
        "for i in range(0,len(X)):\n",
        "  vx = (0.110982484480316*X) - 0.363970234266202 \n",
        "#print(vx)\n",
        "\n",
        "for i in range(0,len(X)):\n",
        "  vy = (0.110982484480316*Y) - 0.363970234266202 \n",
        "print(vy)\n",
        "\n",
        "\n",
        "Vy = vy+g*t\n",
        "Vx = vx+g*t\n",
        "mag = np.sqrt(Vx[0]**2+Vy[0]**2)\n",
        "\n",
        "dir = cot(Vx[0]/Vy[0])\n",
        "\n"
      ],
      "metadata": {
        "colab": {
          "base_uri": "https://localhost:8080/"
        },
        "id": "HaKTfI87kNt5",
        "outputId": "a59a6caa-7424-41c2-d5d0-553bf1813486"
      },
      "execution_count": 6,
      "outputs": [
        {
          "output_type": "stream",
          "name": "stdout",
          "text": [
            "[-0.31948895 -0.29803242 -0.33089435]\n"
          ]
        }
      ]
    },
    {
      "cell_type": "code",
      "source": [
        "plt.plot(Vx,t,'r')\n",
        "plt.plot(Vy,t,'y')"
      ],
      "metadata": {
        "colab": {
          "base_uri": "https://localhost:8080/",
          "height": 282
        },
        "id": "buN-td6Flhkk",
        "outputId": "30949d65-11bc-4db7-ed59-75697d986c1d"
      },
      "execution_count": 7,
      "outputs": [
        {
          "output_type": "execute_result",
          "data": {
            "text/plain": [
              "[<matplotlib.lines.Line2D at 0x7f7426a50290>]"
            ]
          },
          "metadata": {},
          "execution_count": 7
        },
        {
          "output_type": "display_data",
          "data": {
            "text/plain": [
              "<Figure size 432x288 with 1 Axes>"
            ],
            "image/png": "[encoded data removed]"
          },
          "metadata": {
            "needs_background": "light"
          }
        }
      ]
    },
    {
      "cell_type": "code",
      "source": [
        "print(\"magnitud y dirección\", mag, dir)"
      ],
      "metadata": {
        "colab": {
          "base_uri": "https://localhost:8080/"
        },
        "id": "sllp7veArXSb",
        "outputId": "74d7d2b7-7c7e-497f-c881-76b2dd8f3608"
      },
      "execution_count": 8,
      "outputs": [
        {
          "output_type": "stream",
          "name": "stdout",
          "text": [
            "magnitud y dirección 4.5045508574783755 0.691533633691927\n"
          ]
        }
      ]
    },
    {
      "cell_type": "code",
      "source": [],
      "metadata": {
        "id": "JlkcUfljrqWy"
      },
      "execution_count": null,
      "outputs": []
    }
  ]
}