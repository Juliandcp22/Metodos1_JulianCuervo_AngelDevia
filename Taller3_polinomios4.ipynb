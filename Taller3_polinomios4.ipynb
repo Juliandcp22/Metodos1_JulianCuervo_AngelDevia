{
  "nbformat": 4,
  "nbformat_minor": 0,
  "metadata": {
    "colab": {
      "provenance": [],
      "collapsed_sections": []
    },
    "kernelspec": {
      "name": "python3",
      "display_name": "Python 3"
    },
    "language_info": {
      "name": "python"
    }
  },
  "cells": [
    {
      "cell_type": "code",
      "source": [
        "import numpy as np\n",
        "import matplotlib.pyplot as plt\n",
        "from matplotlib import rc\n",
        "import sympy as sym"
      ],
      "metadata": {
        "id": "8YGLnrOBg3E9"
      },
      "execution_count": 65,
      "outputs": []
    },
    {
      "cell_type": "code",
      "source": [
        "def GetLegendre(n):\n",
        "    \n",
        "    x = sym.Symbol('x',Real=True)\n",
        "    y = sym.Symbol('y',Real=True)\n",
        "    \n",
        "    y = (x**2-1)**n\n",
        "    \n",
        "\n",
        "    p = sym.diff(y,x,n)/(2**n * np.math.factorial(n))\n",
        "    \n",
        "    return p\n",
        "  "
      ],
      "metadata": {
        "id": "In5HEaFpmwSq"
      },
      "execution_count": 66,
      "outputs": []
    },
    {
      "cell_type": "code",
      "source": [
        "\n",
        "Legendre = []\n",
        "\n",
        "n=20\n",
        "for i in range(n+1):\n",
        "    Legendre.append(GetLegendre(i))"
      ],
      "metadata": {
        "colab": {
          "base_uri": "https://localhost:8080/"
        },
        "id": "GKUfoj8FsgsQ",
        "outputId": "711737cf-5bc5-40ef-9da4-b7f76e82204c"
      },
      "execution_count": 67,
      "outputs": [
        {
          "output_type": "execute_result",
          "data": {
            "text/plain": [
              "[1,\n",
              " x,\n",
              " (3*x**2 - 1)/2,\n",
              " x*(5*x**2 - 3)/2,\n",
              " (8*x**4 + 24*x**2*(x**2 - 1) + 3*(x**2 - 1)**2)/8,\n",
              " x*(8*x**4 + 40*x**2*(x**2 - 1) + 15*(x**2 - 1)**2)/8,\n",
              " (16*x**6 + 120*x**4*(x**2 - 1) + 90*x**2*(x**2 - 1)**2 + 5*(x**2 - 1)**3)/16,\n",
              " x*(16*x**6 + 168*x**4*(x**2 - 1) + 210*x**2*(x**2 - 1)**2 + 35*(x**2 - 1)**3)/16,\n",
              " (128*x**8 + 1792*x**6*(x**2 - 1) + 3360*x**4*(x**2 - 1)**2 + 1120*x**2*(x**2 - 1)**3 + 35*(x**2 - 1)**4)/128,\n",
              " x*(128*x**8 + 2304*x**6*(x**2 - 1) + 6048*x**4*(x**2 - 1)**2 + 3360*x**2*(x**2 - 1)**3 + 315*(x**2 - 1)**4)/128,\n",
              " (256*x**10 + 5760*x**8*(x**2 - 1) + 20160*x**6*(x**2 - 1)**2 + 16800*x**4*(x**2 - 1)**3 + 3150*x**2*(x**2 - 1)**4 + 63*(x**2 - 1)**5)/256,\n",
              " x*(256*x**10 + 7040*x**8*(x**2 - 1) + 31680*x**6*(x**2 - 1)**2 + 36960*x**4*(x**2 - 1)**3 + 11550*x**2*(x**2 - 1)**4 + 693*(x**2 - 1)**5)/256,\n",
              " (1024*x**12 + 33792*x**10*(x**2 - 1) + 190080*x**8*(x**2 - 1)**2 + 295680*x**6*(x**2 - 1)**3 + 138600*x**4*(x**2 - 1)**4 + 16632*x**2*(x**2 - 1)**5 + 231*(x**2 - 1)**6)/1024,\n",
              " x*(1024*x**12 + 39936*x**10*(x**2 - 1) + 274560*x**8*(x**2 - 1)**2 + 549120*x**6*(x**2 - 1)**3 + 360360*x**4*(x**2 - 1)**4 + 72072*x**2*(x**2 - 1)**5 + 3003*(x**2 - 1)**6)/1024,\n",
              " (2048*x**14 + 93184*x**12*(x**2 - 1) + 768768*x**10*(x**2 - 1)**2 + 1921920*x**8*(x**2 - 1)**3 + 1681680*x**6*(x**2 - 1)**4 + 504504*x**4*(x**2 - 1)**5 + 42042*x**2*(x**2 - 1)**6 + 429*(x**2 - 1)**7)/2048,\n",
              " x*(2048*x**14 + 107520*x**12*(x**2 - 1) + 1048320*x**10*(x**2 - 1)**2 + 3203200*x**8*(x**2 - 1)**3 + 3603600*x**6*(x**2 - 1)**4 + 1513512*x**4*(x**2 - 1)**5 + 210210*x**2*(x**2 - 1)**6 + 6435*(x**2 - 1)**7)/2048,\n",
              " (32768*x**16 + 1966080*x**14*(x**2 - 1) + 22364160*x**12*(x**2 - 1)**2 + 82001920*x**10*(x**2 - 1)**3 + 115315200*x**8*(x**2 - 1)**4 + 64576512*x**6*(x**2 - 1)**5 + 13453440*x**4*(x**2 - 1)**6 + 823680*x**2*(x**2 - 1)**7 + 6435*(x**2 - 1)**8)/32768,\n",
              " x*(32768*x**16 + 2228224*x**14*(x**2 - 1) + 29245440*x**12*(x**2 - 1)**2 + 126730240*x**10*(x**2 - 1)**3 + 217817600*x**8*(x**2 - 1)**4 + 156828672*x**6*(x**2 - 1)**5 + 45741696*x**4*(x**2 - 1)**6 + 4667520*x**2*(x**2 - 1)**7 + 109395*(x**2 - 1)**8)/32768,\n",
              " (65536*x**18 + 5013504*x**16*(x**2 - 1) + 75202560*x**14*(x**2 - 1)**2 + 380190720*x**12*(x**2 - 1)**3 + 784143360*x**10*(x**2 - 1)**4 + 705729024*x**8*(x**2 - 1)**5 + 274450176*x**6*(x**2 - 1)**6 + 42007680*x**4*(x**2 - 1)**7 + 1969110*x**2*(x**2 - 1)**8 + 12155*(x**2 - 1)**9)/65536,\n",
              " x*(65536*x**18 + 5603328*x**16*(x**2 - 1) + 95256576*x**14*(x**2 - 1)**2 + 555663360*x**12*(x**2 - 1)**3 + 1354429440*x**10*(x**2 - 1)**4 + 1489872384*x**8*(x**2 - 1)**5 + 744936192*x**6*(x**2 - 1)**6 + 159629184*x**4*(x**2 - 1)**7 + 12471030*x**2*(x**2 - 1)**8 + 230945*(x**2 - 1)**9)/65536,\n",
              " (262144*x**20 + 24903680*x**18*(x**2 - 1) + 476282880*x**16*(x**2 - 1)**2 + 3175219200*x**14*(x**2 - 1)**3 + 9029529600*x**12*(x**2 - 1)**4 + 11918979072*x**10*(x**2 - 1)**5 + 7449361920*x**8*(x**2 - 1)**6 + 2128389120*x**6*(x**2 - 1)**7 + 249420600*x**4*(x**2 - 1)**8 + 9237800*x**2*(x**2 - 1)**9 + 46189*(x**2 - 1)**10)/262144]"
            ]
          },
          "metadata": {},
          "execution_count": 67
        }
      ]
    },
    {
      "cell_type": "code",
      "source": [
        "X = np.linspace(-1,1,100)"
      ],
      "metadata": {
        "id": "2QaTvP18xD-E"
      },
      "execution_count": 108,
      "outputs": []
    },
    {
      "cell_type": "code",
      "source": [
        "def Function(X):\n",
        "  poly=[]\n",
        "  x = sym.Symbol('x',Real=True)\n",
        "  for i in Legendre:\n",
        "      p=sym.lambdify(x,i,np)\n",
        "      poly.append(p)\n",
        "      return p(X)\n",
        "\n",
        "\n",
        "\n"
      ],
      "metadata": {
        "id": "PAMH0JZan9Cm"
      },
      "execution_count": 100,
      "outputs": []
    },
    {
      "cell_type": "code",
      "source": [
        "def Derivative(f,x,h=1e-5):\n",
        "    return (f(x+h)-f(x-h))/(2*h)\n"
      ],
      "metadata": {
        "id": "zcG6_NMbxEBY"
      },
      "execution_count": 97,
      "outputs": []
    },
    {
      "cell_type": "code",
      "source": [
        "def Newtonraphson(f,df,xn,precision=1e-6):\n",
        "  xi = xn\n",
        "  error=0.1\n",
        "  while not(error<=precision):\n",
        "    xnuevo = xi- f(xi)/df(f,xi)\n",
        "    error=abs(xnuevo-xi)\n",
        "    xi= xnuevo\n",
        "  return xnuevo\n"
      ],
      "metadata": {
        "id": "lTek-iDKxA1I"
      },
      "execution_count": 98,
      "outputs": []
    },
    {
      "cell_type": "code",
      "source": [
        "def GetNewtonMethod(f,df,xn,itmax=1000,precision=1e-5):\n",
        "    \n",
        "    error = 1\n",
        "    it=0\n",
        "    \n",
        "    while error > precision and it < itmax:\n",
        "        \n",
        "        try:\n",
        "            \n",
        "            xn1 = xn - f(xn)/df(f,xn)\n",
        "            error = np.abs(f(xn)/df(f,xn))\n",
        "            \n",
        "        except ZeroDivisionError:\n",
        "            print('Division por cero')\n",
        "            \n",
        "        xn = xn1\n",
        "        it += 1\n",
        "        \n",
        "    print('raiz:', xn,it)\n",
        "    \n",
        "    if it == itmax:\n",
        "        return False\n",
        "    else:\n",
        "        return xn"
      ],
      "metadata": {
        "id": "z8fG1K5n8H2Q"
      },
      "execution_count": 105,
      "outputs": []
    },
    {
      "cell_type": "code",
      "source": [
        "def GetAllRoots(x,tolerancia=8):\n",
        "    \n",
        "    Roots = np.array([])\n",
        "    \n",
        "    for i in x:\n",
        "        root = GetNewtonMethod(Function,Derivative,i)\n",
        "        \n",
        "        if root != False:\n",
        "            \n",
        "            croot = np.round( root, tolerancia )\n",
        "            \n",
        "            if croot not in Roots:\n",
        "                Roots = np.append(Roots,croot)\n",
        "                \n",
        "    Roots.sort()\n",
        "    \n",
        "    return Roots\n",
        "GetAllRoots(X)"
      ],
      "metadata": {
        "colab": {
          "base_uri": "https://localhost:8080/",
          "height": 363
        },
        "id": "UrlxIFMy7hTt",
        "outputId": "62734b11-498f-43f0-fcee-81d9dfcfed16"
      },
      "execution_count": 107,
      "outputs": [
        {
          "output_type": "stream",
          "name": "stdout",
          "text": [
            "Division por cero\n"
          ]
        },
        {
          "output_type": "error",
          "ename": "UnboundLocalError",
          "evalue": "ignored",
          "traceback": [
            "\u001b[0;31m---------------------------------------------------------------------------\u001b[0m",
            "\u001b[0;31mUnboundLocalError\u001b[0m                         Traceback (most recent call last)",
            "\u001b[0;32m<ipython-input-107-778b1aea2d06>\u001b[0m in \u001b[0;36m<module>\u001b[0;34m\u001b[0m\n\u001b[1;32m     16\u001b[0m \u001b[0;34m\u001b[0m\u001b[0m\n\u001b[1;32m     17\u001b[0m     \u001b[0;32mreturn\u001b[0m \u001b[0mRoots\u001b[0m\u001b[0;34m\u001b[0m\u001b[0;34m\u001b[0m\u001b[0m\n\u001b[0;32m---> 18\u001b[0;31m \u001b[0mGetAllRoots\u001b[0m\u001b[0;34m(\u001b[0m\u001b[0mX\u001b[0m\u001b[0;34m)\u001b[0m\u001b[0;34m\u001b[0m\u001b[0;34m\u001b[0m\u001b[0m\n\u001b[0m",
            "\u001b[0;32m<ipython-input-107-778b1aea2d06>\u001b[0m in \u001b[0;36mGetAllRoots\u001b[0;34m(x, tolerancia)\u001b[0m\n\u001b[1;32m      4\u001b[0m \u001b[0;34m\u001b[0m\u001b[0m\n\u001b[1;32m      5\u001b[0m     \u001b[0;32mfor\u001b[0m \u001b[0mi\u001b[0m \u001b[0;32min\u001b[0m \u001b[0mx\u001b[0m\u001b[0;34m:\u001b[0m\u001b[0;34m\u001b[0m\u001b[0;34m\u001b[0m\u001b[0m\n\u001b[0;32m----> 6\u001b[0;31m         \u001b[0mroot\u001b[0m \u001b[0;34m=\u001b[0m \u001b[0mGetNewtonMethod\u001b[0m\u001b[0;34m(\u001b[0m\u001b[0mFunction\u001b[0m\u001b[0;34m,\u001b[0m\u001b[0mDerivative\u001b[0m\u001b[0;34m,\u001b[0m\u001b[0mi\u001b[0m\u001b[0;34m)\u001b[0m\u001b[0;34m\u001b[0m\u001b[0;34m\u001b[0m\u001b[0m\n\u001b[0m\u001b[1;32m      7\u001b[0m \u001b[0;34m\u001b[0m\u001b[0m\n\u001b[1;32m      8\u001b[0m         \u001b[0;32mif\u001b[0m \u001b[0mroot\u001b[0m \u001b[0;34m!=\u001b[0m \u001b[0;32mFalse\u001b[0m\u001b[0;34m:\u001b[0m\u001b[0;34m\u001b[0m\u001b[0;34m\u001b[0m\u001b[0m\n",
            "\u001b[0;32m<ipython-input-105-9a074d9fc77a>\u001b[0m in \u001b[0;36mGetNewtonMethod\u001b[0;34m(f, df, xn, itmax, precision)\u001b[0m\n\u001b[1;32m     14\u001b[0m             \u001b[0mprint\u001b[0m\u001b[0;34m(\u001b[0m\u001b[0;34m'Division por cero'\u001b[0m\u001b[0;34m)\u001b[0m\u001b[0;34m\u001b[0m\u001b[0;34m\u001b[0m\u001b[0m\n\u001b[1;32m     15\u001b[0m \u001b[0;34m\u001b[0m\u001b[0m\n\u001b[0;32m---> 16\u001b[0;31m         \u001b[0mxn\u001b[0m \u001b[0;34m=\u001b[0m \u001b[0mxn1\u001b[0m\u001b[0;34m\u001b[0m\u001b[0;34m\u001b[0m\u001b[0m\n\u001b[0m\u001b[1;32m     17\u001b[0m         \u001b[0mit\u001b[0m \u001b[0;34m+=\u001b[0m \u001b[0;36m1\u001b[0m\u001b[0;34m\u001b[0m\u001b[0;34m\u001b[0m\u001b[0m\n\u001b[1;32m     18\u001b[0m \u001b[0;34m\u001b[0m\u001b[0m\n",
            "\u001b[0;31mUnboundLocalError\u001b[0m: local variable 'xn1' referenced before assignment"
          ]
        }
      ]
    },
    {
      "cell_type": "code",
      "source": [
        "poly = []\n",
        "df=0\n",
        "x = sym.Symbol('x',Real=True)\n",
        "for i in Legendre:\n",
        "    p= sym.lambdify(x,i)\n",
        "    poly.append(p)\n",
        "    #df=Derivative(func,X)\n",
        "    #roots.append(Newtonraphson(func,df,0.5))\n",
        "poly\n",
        "roots=[]\n",
        "for j in roots:\n",
        "  print(j)\n",
        "  if j==1:\n",
        "    df=0\n",
        "  else:\n",
        "    df=Derivative(j,X)\n",
        "  \n",
        "  roots.append(Newtonraphson(j,df,0.5))"
      ],
      "metadata": {
        "id": "6jbHxWwntPY8"
      },
      "execution_count": 73,
      "outputs": []
    },
    {
      "cell_type": "code",
      "source": [
        "roots=[]\n",
        "for j in roots:\n",
        "  \n",
        "  if j==1:\n",
        "    df=0\n",
        "  else:\n",
        "    df=Derivative(j,X)\n",
        "  print(j)\n",
        "  roots.append(Newtonraphson(j,df,0.5))"
      ],
      "metadata": {
        "id": "QGIGKQBoeIMg"
      },
      "execution_count": 33,
      "outputs": []
    }
  ]
}