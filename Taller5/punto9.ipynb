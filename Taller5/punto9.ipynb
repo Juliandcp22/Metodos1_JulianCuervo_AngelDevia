{
  "nbformat": 4,
  "nbformat_minor": 0,
  "metadata": {
    "colab": {
      "provenance": []
    },
    "kernelspec": {
      "name": "python3",
      "display_name": "Python 3"
    },
    "language_info": {
      "name": "python"
    }
  },
  "cells": [
    {
      "cell_type": "code",
      "source": [
        "import numpy as np\n",
        "import random\n",
        "import matplotlib.pyplot as plt\n",
        "import math"
      ],
      "metadata": {
        "id": "stqtvjnUtNMP"
      },
      "execution_count": 4,
      "outputs": []
    },
    {
      "cell_type": "code",
      "execution_count": 3,
      "metadata": {
        "colab": {
          "base_uri": "https://localhost:8080/"
        },
        "id": "JO5Y8YNPtKwY",
        "outputId": "6e4f1df7-3cec-45eb-a21f-e26ec26c83a2"
      },
      "outputs": [
        {
          "output_type": "stream",
          "name": "stdout",
          "text": [
            "La integral es: 0.1300246861534576\n",
            "Valor exacto: 0.13020833333333334\n"
          ]
        }
      ],
      "source": [
        "def f(x_1, x_2, x_3, x_4, x_5, x_6, x_7, x_8):\n",
        "  return 2**(-7)*(x_1 + x_2 + x_3 + x_4 + x_5 + x_6 + x_7 + x_8)**2\n",
        "\n",
        "def integral (a,b,N =10**4, dim=8):\n",
        "  x = np.random.uniform(a,b,(N,dim))\n",
        "  f_x = []\n",
        "  for i in range(len(x)):\n",
        "     f_x.append(f(x[i][0], x[i][1], x[i][2], x[i][3], x[i][4], x[i][5], x[i][6], x[i][7]))\n",
        "  sol = np.mean(f_x)*(b-a)\n",
        "  return sol\n",
        "\n",
        "Integral = integral(0,1,10**4,8)\n",
        "Integral\n",
        "print(\"La integral es:\", Integral)\n",
        "print(\"Valor exacto:\", 25/192)\n",
        "\n"
      ]
    },
    {
      "cell_type": "code",
      "source": [],
      "metadata": {
        "id": "qIJAfLI9tSPP"
      },
      "execution_count": null,
      "outputs": []
    }
  ]
}